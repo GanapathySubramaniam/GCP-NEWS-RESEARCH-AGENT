{
 "cells": [
  {
   "cell_type": "markdown",
   "id": "058f053a",
   "metadata": {},
   "source": [
    "<div align=\"center\">\n",
    "\n",
    "# 🚀 <span style=\"color:#4682B4;\"><b>Real Time News Summarizer Agent</b></span>\n",
    "\n",
    "*Extract, analyze, and synthesize the latest news headlines — automatically and intelligently.*\n",
    "\n",
    "</div>\n",
    "\n",
    "---\n",
    "\n",
    "> <span style=\"font-size:1.1em\">\n",
    "> <kbd style=\"background:#F5F5DC;color:#4682B4;font-size:1.1em;padding:2px 8px;\">🔗 End-to-End Pipeline</kbd> <br>\n",
    "> <b>For real-world news workflows:</b><br>\n",
    "> <span style=\"color:#1ea561\">✔</span> Collect trending news from <b>Google News</b> (via SerpApi)<br>\n",
    "> <span style=\"color:#1ea561\">✔</span> Scrape and clean full article content<br>\n",
    "> <span style=\"color:#1ea561\">✔</span> Extract <b>topics, entities, sentiment</b> with <b>GCP NLP</b><br>\n",
    "> <span style=\"color:#1ea561\">✔</span> Store structured news events in <b>BigQuery</b><br>\n",
    "> <span style=\"color:#1ea561\">✔</span> Summarize insights agentically (`langgraph` + Gemini)\n",
    "> </span>\n",
    "\n",
    "---\n",
    "\n",
    "<div style=\"background:#531a85ff;padding:10px;border-radius:8px;border:1px solid #531a85ff;\">\n",
    "\n",
    "### 🛠 <span><b>What’s Included?</b></span>\n",
    "\n",
    "- <span style=\"color:#ffa500\">⬤</span> **One-shot ETL:** Automated <span style=\"color:#20b67e\"><b>extraction, enrichment, and database upload</b></span>\n",
    "- <span style=\"color:#ffa500\">⬤</span> **Agentic Graph Orchestration:**  \n",
    "    - 💡 State-of-the-art <b>LLM planner</b> decomposes any question into topical queries  \n",
    "    - ⚡ <b>Parallelized summarization</b> for scalable multi-topic coverage  \n",
    "    - 🤝 Modular orchestration: <b>orchestrator → workers → synthesizer</b>\n",
    "- <span style=\"color:#ffa500\">⬤</span> **Interactive Notebook:** Demo, explore, or customize in <b>notebook.ipynb</b>\n",
    "- <span style=\"color:#ffa500\">⬤</span> **Cloud-Native:** Leverages <b>GCP NLP</b>, <b>BigQuery</b>, and secured credentials\n",
    "\n",
    "</div>\n",
    "\n",
    "---\n",
    "\n",
    "<div align=\"center\" style=\"font-size: 1.2em; margin-top:10px;\">\n",
    "✨ <b>Modular by design. Powered by intelligence. Built for scale.</b> ✨\n",
    "</div>\n"
   ]
  },
  {
   "cell_type": "markdown",
   "id": "6db5775a",
   "metadata": {},
   "source": [
    "## 🧩 Step 1: Load Environment Variables\n",
    "\n",
    "Before running any extraction or orchestration, **make sure to load your environment variables** (API keys, project IDs, credentials) for seamless authentication and configuration."
   ]
  },
  {
   "cell_type": "code",
   "execution_count": 1,
   "id": "cf287c94",
   "metadata": {},
   "outputs": [
    {
     "data": {
      "text/plain": [
       "True"
      ]
     },
     "execution_count": 1,
     "metadata": {},
     "output_type": "execute_result"
    }
   ],
   "source": [
    "from dotenv import load_dotenv\n",
    "load_dotenv()"
   ]
  },
  {
   "cell_type": "markdown",
   "id": "73cc70fe",
   "metadata": {},
   "source": [
    "## 📰 Step 2: Data Extractor\n",
    "\n",
    "> **Fetch trending headlines from Google News (via SerpApi), organized by category and ready for downstream NLP processing.**\n",
    "\n",
    "Your custom data extractor will:\n",
    "- 🔎 Query multiple categories (AI, business, tech, etc.)\n",
    "- 📰 Retrieve headline/title and news article URLs\n",
    "- 📄 Save the results as `./data/raw_news.csv`\n",
    "\n",
    "**Run the extractor:**\n",
    "\n"
   ]
  },
  {
   "cell_type": "code",
   "execution_count": 2,
   "id": "353ac20a",
   "metadata": {},
   "outputs": [
    {
     "name": "stdout",
     "output_type": "stream",
     "text": [
      "🔍 Starting alternative news collection...\n",
      "📰 Searching for AI news...\n",
      "✅ Found 20 articles for AI\n",
      "📰 Searching for business news...\n",
      "✅ Found 20 articles for business\n",
      "📰 Searching for politics news...\n",
      "✅ Found 20 articles for politics\n",
      "📰 Searching for sports news...\n",
      "✅ Found 20 articles for sports\n",
      "📰 Searching for tech news...\n",
      "✅ Found 20 articles for tech\n",
      "📰 Searching for science news...\n",
      "✅ Found 20 articles for science\n",
      "📰 Searching for entertainment news...\n",
      "✅ Found 20 articles for entertainment\n",
      "\n",
      "📊 results: 140 articles extracted and stored in ./data/raw_news.csv\n"
     ]
    }
   ],
   "source": [
    "from data_extractor import collect_news\n",
    "\n",
    "result=collect_news()\n",
    "print(result)"
   ]
  },
  {
   "cell_type": "code",
   "execution_count": 8,
   "id": "d8fe2b2a",
   "metadata": {},
   "outputs": [
    {
     "data": {
      "text/html": [
       "<div>\n",
       "<style scoped>\n",
       "    .dataframe tbody tr th:only-of-type {\n",
       "        vertical-align: middle;\n",
       "    }\n",
       "\n",
       "    .dataframe tbody tr th {\n",
       "        vertical-align: top;\n",
       "    }\n",
       "\n",
       "    .dataframe thead th {\n",
       "        text-align: right;\n",
       "    }\n",
       "</style>\n",
       "<table border=\"1\" class=\"dataframe\">\n",
       "  <thead>\n",
       "    <tr style=\"text-align: right;\">\n",
       "      <th></th>\n",
       "      <th>category</th>\n",
       "      <th>headline</th>\n",
       "      <th>url</th>\n",
       "    </tr>\n",
       "  </thead>\n",
       "  <tbody>\n",
       "    <tr>\n",
       "      <th>0</th>\n",
       "      <td>AI</td>\n",
       "      <td>Eye on AI: Applying Artificial Intelligence to...</td>\n",
       "      <td>https://www.aacr.org/blog/2025/08/18/eye-on-ai...</td>\n",
       "    </tr>\n",
       "    <tr>\n",
       "      <th>1</th>\n",
       "      <td>AI</td>\n",
       "      <td>Prediction: These 3 Artificial Intelligence (A...</td>\n",
       "      <td>https://www.fool.com/investing/2025/08/18/pred...</td>\n",
       "    </tr>\n",
       "    <tr>\n",
       "      <th>2</th>\n",
       "      <td>AI</td>\n",
       "      <td>Why I keep telling you about AI (artificial in...</td>\n",
       "      <td>https://www.timberjay.com/stories/why-i-keep-t...</td>\n",
       "    </tr>\n",
       "    <tr>\n",
       "      <th>3</th>\n",
       "      <td>AI</td>\n",
       "      <td>Research suggests doctors might quickly become...</td>\n",
       "      <td>https://www.npr.org/sections/shots-health-news...</td>\n",
       "    </tr>\n",
       "    <tr>\n",
       "      <th>4</th>\n",
       "      <td>AI</td>\n",
       "      <td>The Algorithm Will See You Now: AI’s Role at t...</td>\n",
       "      <td>https://www.renalandurologynews.com/features/a...</td>\n",
       "    </tr>\n",
       "  </tbody>\n",
       "</table>\n",
       "</div>"
      ],
      "text/plain": [
       "  category                                           headline  \\\n",
       "0       AI  Eye on AI: Applying Artificial Intelligence to...   \n",
       "1       AI  Prediction: These 3 Artificial Intelligence (A...   \n",
       "2       AI  Why I keep telling you about AI (artificial in...   \n",
       "3       AI  Research suggests doctors might quickly become...   \n",
       "4       AI  The Algorithm Will See You Now: AI’s Role at t...   \n",
       "\n",
       "                                                 url  \n",
       "0  https://www.aacr.org/blog/2025/08/18/eye-on-ai...  \n",
       "1  https://www.fool.com/investing/2025/08/18/pred...  \n",
       "2  https://www.timberjay.com/stories/why-i-keep-t...  \n",
       "3  https://www.npr.org/sections/shots-health-news...  \n",
       "4  https://www.renalandurologynews.com/features/a...  "
      ]
     },
     "execution_count": 8,
     "metadata": {},
     "output_type": "execute_result"
    }
   ],
   "source": [
    "import pandas as pd \n",
    "news_df=pd.read_csv('./data/raw_news.csv')\n",
    "news_df.head()"
   ]
  },
  {
   "cell_type": "markdown",
   "id": "3cd51f0f",
   "metadata": {},
   "source": [
    "## 🛠️ Step 3: Web Scraping & Preprocessing\n",
    "\n",
    "> **Extract full article content, analyze using Google NLP, and create a clean, enriched news dataset.**\n",
    "\n",
    "Your preprocessing pipeline will:\n",
    "- 🌐 Scrape main article text from each news URL (using `newspaper3k`)\n",
    "- 🧠 Run Google Cloud NLP for:\n",
    "    - Entity extraction (ranked by salience)\n",
    "    - Topic/category classification (with confidence)\n",
    "    - Sentiment analysis\n",
    "- ⚡ Process news in parallel for speed!\n",
    "- ✨ Write cleaned/enriched results to `./data/preprocessed_news.csv`\n",
    "\n",
    "**Run the preprocessor:**\n",
    "\n"
   ]
  },
  {
   "cell_type": "code",
   "execution_count": 2,
   "id": "2a3bce75",
   "metadata": {},
   "outputs": [
    {
     "name": "stdout",
     "output_type": "stream",
     "text": [
      "https://www.reuters.com/technology/artificial-intelligence/ai-will-replace-most-humans-then-what-2025-08-19/: Failed to fetch page: 401\n",
      "https://coloradonewsline.com/2025/08/20/reform-sweeping-ai-law-colorado/: Failed to fetch page: 403\n",
      "https://diginomica.com/mit-artificial-intelligence-ai-report-fallout-if-ai-winter-coming-it-cant-arrive-soon-enough: Content too short or access restricted\n",
      "https://www.reuters.com/world/us/americans-fear-ai-permanently-displacing-workers-reutersipsos-poll-finds-2025-08-19/: Failed to fetch page: 401\n",
      "Article 1 extraction complete\n",
      "Article 2 extraction complete\n",
      "Article 3 extraction complete\n",
      "Article 4 extraction complete\n",
      "Article 5 extraction complete\n",
      "Article 6 extraction complete\n",
      "Article 7 extraction complete\n",
      "Article 8 extraction complete\n",
      "https://www.nytimes.com/2025/08/22/business/stock-market-nvidia-trump.html: Failed to fetch page: 403\n",
      "Article 9 extraction complete\n",
      "https://www.reuters.com/business/finance/powell-fires-up-markets-some-investors-see-reason-caution-2025-08-22/: Failed to fetch page: 401\n",
      "Article 10 extraction complete\n",
      "Article 11 extraction complete\n",
      "https://www.wsj.com/livecoverage/stock-market-today-jackson-hole-jerome-powell-08-22-2025?gaa_at=eafs&gaa_n=ASWzDAh4xBiwJlyX_jlWoJLlv4Hn3v3xsN53QVcxXjswglfSf__3IRdRCaxu&gaa_ts=68aa132a&gaa_sig=omjWNwXorKqhI63gIUjoOpNpCmgX4wPE1n_BcqquIGAoFAu-oThcEPfexeFhlJqp3nbhvAopTN1zV0gtStuWPg%3D%3D: Failed to fetch page: 401\n",
      "Article 12 extraction complete\n",
      "Article 13 extraction complete\n",
      "Article 14 extraction complete\n",
      "https://www.reuters.com/business/investors-see-risks-market-powell-walks-tightrope-jackson-hole-2025-08-21/: Failed to fetch page: 401\n",
      "Article 15 extraction complete\n",
      "https://www.nytimes.com/2025/08/18/business/dealbook/sp-500-market-valuations.html: Failed to fetch page: 403\n",
      "Article 16 extraction complete\n",
      "Article 17 extraction complete\n",
      "Article 18 extraction complete\n",
      "Article 19 extraction complete\n",
      "Article 20 extraction complete\n",
      "Article 21 extraction complete\n",
      "https://bipartisanpolicy.org/issue-brief/election-official-turnover-rates-through-the-2024-election/: Failed to fetch page: 403\n",
      "Article 22 extraction complete\n",
      "Article 23 extraction complete\n",
      "Article 24 extraction complete\n",
      "https://www.colliercountyfl.gov/government/county-manager-operations/divisions/communications-government-public-affairs: Failed to fetch page: 403\n",
      "https://www.stimson.org/2025/myanmars-december-election-engineering-continuity-through-institutional-redesign/: Content too short or access restricted\n",
      "Article 25 extraction complete\n",
      "Article 26 extraction complete\n",
      "https://www.politico.com/news/2025/08/19/trump-and-putin-are-both-criticizing-mail-in-voting-election-officials-are-freaking-out-00515513: Failed to fetch page: 403\n",
      "Article 27 extraction complete\n",
      "Article 28 extraction complete\n",
      "Article 29 extraction complete\n",
      "Article 30 extraction complete\n",
      "Article 31 extraction complete\n",
      "https://bipartisanpolicy.org/blog/president-trumps-executive-order-on-homelessness-a-shift-in-federal-policy/: Failed to fetch page: 403\n",
      "Article 32 extraction complete\n",
      "Article 33 extraction complete\n",
      "Article 34 extraction complete\n",
      "Article 35 extraction complete\n",
      "Article 36 extraction complete\n",
      "Article 37 extraction complete\n",
      "Article 38 extraction complete\n",
      "Article 39 extraction complete\n",
      "Article 40 extraction complete\n",
      "https://virginiasports.com/news/2025/08/21/proving-grounds-preseason-with-virginia-mens-basketball-episode-one/: Content too short or access restricted\n",
      "https://espnpressroom.com/us/press-releases/2025/08/espn-welcomes-back-extensive-college-football-studio-programming-for-2025-26-season/: Content too short or access restricted\n",
      "Article 41 extraction complete\n",
      "Article 42 extraction complete\n",
      "Article 43 extraction complete\n",
      "Article 44 extraction complete\n",
      "Article 45 extraction complete\n",
      "Article 46 extraction complete\n",
      "Article 47 extraction complete\n",
      "https://group.dhl.com/en/media-relations/press-releases/2025/new-us-customs-regulations-temporary-restrictions-on-postal-goods-shipping-to-the-us-for-private-and-business-customers.html: HTTPSConnectionPool(host='group.dhl.com', port=443): Read timed out. (read timeout=15)\n",
      "Traceback (most recent call last):\n",
      "  File \"C:\\Users\\ganap\\AppData\\Local\\Packages\\PythonSoftwareFoundation.Python.3.11_qbz5n2kfra8p0\\LocalCache\\local-packages\\Python311\\site-packages\\urllib3\\connectionpool.py\", line 534, in _make_request\n",
      "    response = conn.getresponse()\n",
      "               ^^^^^^^^^^^^^^^^^^\n",
      "  File \"C:\\Users\\ganap\\AppData\\Local\\Packages\\PythonSoftwareFoundation.Python.3.11_qbz5n2kfra8p0\\LocalCache\\local-packages\\Python311\\site-packages\\urllib3\\connection.py\", line 516, in getresponse\n",
      "    httplib_response = super().getresponse()\n",
      "                       ^^^^^^^^^^^^^^^^^^^^^\n",
      "  File \"C:\\Program Files\\WindowsApps\\PythonSoftwareFoundation.Python.3.11_3.11.2544.0_x64__qbz5n2kfra8p0\\Lib\\http\\client.py\", line 1395, in getresponse\n",
      "    response.begin()\n",
      "  File \"C:\\Program Files\\WindowsApps\\PythonSoftwareFoundation.Python.3.11_3.11.2544.0_x64__qbz5n2kfra8p0\\Lib\\http\\client.py\", line 325, in begin\n",
      "    version, status, reason = self._read_status()\n",
      "                              ^^^^^^^^^^^^^^^^^^^\n",
      "  File \"C:\\Program Files\\WindowsApps\\PythonSoftwareFoundation.Python.3.11_3.11.2544.0_x64__qbz5n2kfra8p0\\Lib\\http\\client.py\", line 286, in _read_status\n",
      "    line = str(self.fp.readline(_MAXLINE + 1), \"iso-8859-1\")\n",
      "               ^^^^^^^^^^^^^^^^^^^^^^^^^^^^^^\n",
      "  File \"C:\\Program Files\\WindowsApps\\PythonSoftwareFoundation.Python.3.11_3.11.2544.0_x64__qbz5n2kfra8p0\\Lib\\socket.py\", line 706, in readinto\n",
      "    return self._sock.recv_into(b)\n",
      "           ^^^^^^^^^^^^^^^^^^^^^^^\n",
      "  File \"C:\\Program Files\\WindowsApps\\PythonSoftwareFoundation.Python.3.11_3.11.2544.0_x64__qbz5n2kfra8p0\\Lib\\ssl.py\", line 1314, in recv_into\n",
      "    return self.read(nbytes, buffer)\n",
      "           ^^^^^^^^^^^^^^^^^^^^^^^^^\n",
      "  File \"C:\\Program Files\\WindowsApps\\PythonSoftwareFoundation.Python.3.11_3.11.2544.0_x64__qbz5n2kfra8p0\\Lib\\ssl.py\", line 1166, in read\n",
      "    return self._sslobj.read(len, buffer)\n",
      "           ^^^^^^^^^^^^^^^^^^^^^^^^^^^^^^\n",
      "TimeoutError: The read operation timed out\n",
      "\n",
      "The above exception was the direct cause of the following exception:\n",
      "\n",
      "Traceback (most recent call last):\n",
      "  File \"C:\\Users\\ganap\\AppData\\Local\\Packages\\PythonSoftwareFoundation.Python.3.11_qbz5n2kfra8p0\\LocalCache\\local-packages\\Python311\\site-packages\\requests\\adapters.py\", line 667, in send\n",
      "    resp = conn.urlopen(\n",
      "           ^^^^^^^^^^^^^\n",
      "  File \"C:\\Users\\ganap\\AppData\\Local\\Packages\\PythonSoftwareFoundation.Python.3.11_qbz5n2kfra8p0\\LocalCache\\local-packages\\Python311\\site-packages\\urllib3\\connectionpool.py\", line 841, in urlopen\n",
      "    retries = retries.increment(\n",
      "              ^^^^^^^^^^^^^^^^^^\n",
      "  File \"C:\\Users\\ganap\\AppData\\Local\\Packages\\PythonSoftwareFoundation.Python.3.11_qbz5n2kfra8p0\\LocalCache\\local-packages\\Python311\\site-packages\\urllib3\\util\\retry.py\", line 474, in increment\n",
      "    raise reraise(type(error), error, _stacktrace)\n",
      "          ^^^^^^^^^^^^^^^^^^^^^^^^^^^^^^^^^^^^^^^^\n",
      "  File \"C:\\Users\\ganap\\AppData\\Local\\Packages\\PythonSoftwareFoundation.Python.3.11_qbz5n2kfra8p0\\LocalCache\\local-packages\\Python311\\site-packages\\urllib3\\util\\util.py\", line 39, in reraise\n",
      "    raise value\n",
      "  File \"C:\\Users\\ganap\\AppData\\Local\\Packages\\PythonSoftwareFoundation.Python.3.11_qbz5n2kfra8p0\\LocalCache\\local-packages\\Python311\\site-packages\\urllib3\\connectionpool.py\", line 787, in urlopen\n",
      "    response = self._make_request(\n",
      "               ^^^^^^^^^^^^^^^^^^^\n",
      "  File \"C:\\Users\\ganap\\AppData\\Local\\Packages\\PythonSoftwareFoundation.Python.3.11_qbz5n2kfra8p0\\LocalCache\\local-packages\\Python311\\site-packages\\urllib3\\connectionpool.py\", line 536, in _make_request\n",
      "    self._raise_timeout(err=e, url=url, timeout_value=read_timeout)\n",
      "  File \"C:\\Users\\ganap\\AppData\\Local\\Packages\\PythonSoftwareFoundation.Python.3.11_qbz5n2kfra8p0\\LocalCache\\local-packages\\Python311\\site-packages\\urllib3\\connectionpool.py\", line 367, in _raise_timeout\n",
      "    raise ReadTimeoutError(\n",
      "urllib3.exceptions.ReadTimeoutError: HTTPSConnectionPool(host='group.dhl.com', port=443): Read timed out. (read timeout=15)\n",
      "\n",
      "During handling of the above exception, another exception occurred:\n",
      "\n",
      "Traceback (most recent call last):\n",
      "  File \"c:\\Users\\ganap\\Documents\\projects 25\\gcp task\\preprocessor\\preprocess_data.py\", line 23, in process_webpage\n",
      "    response = requests.get(url, headers=headers, timeout=15)\n",
      "               ^^^^^^^^^^^^^^^^^^^^^^^^^^^^^^^^^^^^^^^^^^^^^^\n",
      "  File \"C:\\Users\\ganap\\AppData\\Local\\Packages\\PythonSoftwareFoundation.Python.3.11_qbz5n2kfra8p0\\LocalCache\\local-packages\\Python311\\site-packages\\requests\\api.py\", line 73, in get\n",
      "    return request(\"get\", url, params=params, **kwargs)\n",
      "           ^^^^^^^^^^^^^^^^^^^^^^^^^^^^^^^^^^^^^^^^^^^^\n",
      "  File \"C:\\Users\\ganap\\AppData\\Local\\Packages\\PythonSoftwareFoundation.Python.3.11_qbz5n2kfra8p0\\LocalCache\\local-packages\\Python311\\site-packages\\requests\\api.py\", line 59, in request\n",
      "    return session.request(method=method, url=url, **kwargs)\n",
      "           ^^^^^^^^^^^^^^^^^^^^^^^^^^^^^^^^^^^^^^^^^^^^^^^^^\n",
      "  File \"C:\\Users\\ganap\\AppData\\Local\\Packages\\PythonSoftwareFoundation.Python.3.11_qbz5n2kfra8p0\\LocalCache\\local-packages\\Python311\\site-packages\\requests\\sessions.py\", line 589, in request\n",
      "    resp = self.send(prep, **send_kwargs)\n",
      "           ^^^^^^^^^^^^^^^^^^^^^^^^^^^^^^\n",
      "  File \"C:\\Users\\ganap\\AppData\\Local\\Packages\\PythonSoftwareFoundation.Python.3.11_qbz5n2kfra8p0\\LocalCache\\local-packages\\Python311\\site-packages\\requests\\sessions.py\", line 703, in send\n",
      "    r = adapter.send(request, **kwargs)\n",
      "        ^^^^^^^^^^^^^^^^^^^^^^^^^^^^^^^\n",
      "  File \"C:\\Users\\ganap\\AppData\\Local\\Packages\\PythonSoftwareFoundation.Python.3.11_qbz5n2kfra8p0\\LocalCache\\local-packages\\Python311\\site-packages\\requests\\adapters.py\", line 713, in send\n",
      "    raise ReadTimeout(e, request=request)\n",
      "requests.exceptions.ReadTimeout: HTTPSConnectionPool(host='group.dhl.com', port=443): Read timed out. (read timeout=15)\n",
      "\n",
      "Article 48 extraction complete\n",
      "Article 49 extraction complete\n",
      "Article 50 extraction complete\n",
      "https://www.kstatesports.com/news/2025/8/18/k-state-opens-2025-season-with-aer-lingus-college-football-classic: Content too short or access restricted\n",
      "https://fightingirish.com/notre-dame-athletics-unveils-initial-sports-specific-leprechaun-mark/: Content too short or access restricted\n",
      "Article 51 extraction complete\n",
      "https://www.reuters.com/business/autos-transportation/self-driving-vehicle-startup-nuro-valued-6-billion-late-stage-funding-round-2025-08-21/: Failed to fetch page: 401\n",
      "Article 52 extraction complete\n",
      "https://www.axios.com/2025/08/20/artificial-intelligence-ai-gm: Failed to fetch page: 403\n",
      "https://www.weforum.org/stories/2025/08/obsession-innovation-humanity-deficit/: Failed to fetch page: 403\n",
      "https://www.wsj.com/articles/a-startup-that-uses-ai-to-spot-financial-fraud-raises-60-million-24a0ca7e?gaa_at=eafs&gaa_n=ASWzDAi3ZV8Vsc14GraXTzU9dsq3Y57W96iMTVQQrUD7PmelThsWbOoaLbQa&gaa_ts=68aa1345&gaa_sig=NfaQA2NTCdSoGY3dhlWRAawG6WHayL8yoMuQ8kYtgA-gykmjFylu3DFAnX-djX7i7zrZwVvkhyzjEkgg-uk8pQ%3D%3D: Failed to fetch page: 401\n",
      "Article 53 extraction complete\n",
      "Article 54 extraction complete\n",
      "Article 55 extraction complete\n",
      "Article 56 extraction complete\n",
      "Article 57 extraction complete\n",
      "Article 58 extraction complete\n",
      "Article 59 extraction complete\n",
      "https://www.inc.com/ben-sherry/how-this-founder-sold-his-vibe-coding-startup-for-80-million-just-4-months-after-launching-it/91225024: Failed to fetch page: 403\n",
      "Article 60 extraction complete\n",
      "Article 61 extraction complete\n",
      "Article 62 extraction complete\n",
      "https://www.reuters.com/business/blockchain-lender-figure-technology-reveals-revenue-surge-us-ipo-filing-2025-08-18/: Failed to fetch page: 401\n",
      "https://www.reuters.com/world/china/chinese-ai-startup-deepseek-releases-upgraded-model-with-domestic-chip-support-2025-08-21/: Failed to fetch page: 401\n",
      "Article 63 extraction complete\n",
      "Article 64 extraction complete\n",
      "Article 65 extraction complete\n",
      "Article 66 extraction complete\n",
      "Article 67 extraction complete\n",
      "https://www.purdue.edu/newsroom/purduetoday/2025/Q3/researchers-in-various-studies-looking-for-participants: Content too short or access restricted\n",
      "Article 68 extraction complete\n",
      "Article 69 extraction complete\n",
      "https://openai.com/index/accelerating-life-sciences-research-with-retro-biosciences/: Failed to fetch page: 403\n",
      "Article 70 extraction complete\n",
      "Article 71 extraction complete\n",
      "Article 72 extraction complete\n",
      "Article 73 extraction complete\n",
      "Article 74 extraction complete\n",
      "Article 75 extraction complete\n",
      "Article 76 extraction complete\n",
      "Article 77 extraction complete\n",
      "Article 78 extraction complete\n",
      "Article 79 extraction complete\n",
      "https://www.mckinsey.com/industries/technology-media-and-telecommunications/our-insights/closing-the-monetization-gap-in-womens-sports-a-2-point-5-billion-dollar-opportunity: HTTPSConnectionPool(host='www.mckinsey.com', port=443): Read timed out. (read timeout=15)\n",
      "Traceback (most recent call last):\n",
      "  File \"C:\\Users\\ganap\\AppData\\Local\\Packages\\PythonSoftwareFoundation.Python.3.11_qbz5n2kfra8p0\\LocalCache\\local-packages\\Python311\\site-packages\\urllib3\\connectionpool.py\", line 534, in _make_request\n",
      "    response = conn.getresponse()\n",
      "               ^^^^^^^^^^^^^^^^^^\n",
      "  File \"C:\\Users\\ganap\\AppData\\Local\\Packages\\PythonSoftwareFoundation.Python.3.11_qbz5n2kfra8p0\\LocalCache\\local-packages\\Python311\\site-packages\\urllib3\\connection.py\", line 516, in getresponse\n",
      "    httplib_response = super().getresponse()\n",
      "                       ^^^^^^^^^^^^^^^^^^^^^\n",
      "  File \"C:\\Program Files\\WindowsApps\\PythonSoftwareFoundation.Python.3.11_3.11.2544.0_x64__qbz5n2kfra8p0\\Lib\\http\\client.py\", line 1395, in getresponse\n",
      "    response.begin()\n",
      "  File \"C:\\Program Files\\WindowsApps\\PythonSoftwareFoundation.Python.3.11_3.11.2544.0_x64__qbz5n2kfra8p0\\Lib\\http\\client.py\", line 325, in begin\n",
      "    version, status, reason = self._read_status()\n",
      "                              ^^^^^^^^^^^^^^^^^^^\n",
      "  File \"C:\\Program Files\\WindowsApps\\PythonSoftwareFoundation.Python.3.11_3.11.2544.0_x64__qbz5n2kfra8p0\\Lib\\http\\client.py\", line 286, in _read_status\n",
      "    line = str(self.fp.readline(_MAXLINE + 1), \"iso-8859-1\")\n",
      "               ^^^^^^^^^^^^^^^^^^^^^^^^^^^^^^\n",
      "  File \"C:\\Program Files\\WindowsApps\\PythonSoftwareFoundation.Python.3.11_3.11.2544.0_x64__qbz5n2kfra8p0\\Lib\\socket.py\", line 706, in readinto\n",
      "    return self._sock.recv_into(b)\n",
      "           ^^^^^^^^^^^^^^^^^^^^^^^\n",
      "  File \"C:\\Program Files\\WindowsApps\\PythonSoftwareFoundation.Python.3.11_3.11.2544.0_x64__qbz5n2kfra8p0\\Lib\\ssl.py\", line 1314, in recv_into\n",
      "    return self.read(nbytes, buffer)\n",
      "           ^^^^^^^^^^^^^^^^^^^^^^^^^\n",
      "  File \"C:\\Program Files\\WindowsApps\\PythonSoftwareFoundation.Python.3.11_3.11.2544.0_x64__qbz5n2kfra8p0\\Lib\\ssl.py\", line 1166, in read\n",
      "    return self._sslobj.read(len, buffer)\n",
      "           ^^^^^^^^^^^^^^^^^^^^^^^^^^^^^^\n",
      "TimeoutError: The read operation timed out\n",
      "\n",
      "The above exception was the direct cause of the following exception:\n",
      "\n",
      "Traceback (most recent call last):\n",
      "  File \"C:\\Users\\ganap\\AppData\\Local\\Packages\\PythonSoftwareFoundation.Python.3.11_qbz5n2kfra8p0\\LocalCache\\local-packages\\Python311\\site-packages\\requests\\adapters.py\", line 667, in send\n",
      "    resp = conn.urlopen(\n",
      "           ^^^^^^^^^^^^^\n",
      "  File \"C:\\Users\\ganap\\AppData\\Local\\Packages\\PythonSoftwareFoundation.Python.3.11_qbz5n2kfra8p0\\LocalCache\\local-packages\\Python311\\site-packages\\urllib3\\connectionpool.py\", line 841, in urlopen\n",
      "    retries = retries.increment(\n",
      "              ^^^^^^^^^^^^^^^^^^\n",
      "  File \"C:\\Users\\ganap\\AppData\\Local\\Packages\\PythonSoftwareFoundation.Python.3.11_qbz5n2kfra8p0\\LocalCache\\local-packages\\Python311\\site-packages\\urllib3\\util\\retry.py\", line 474, in increment\n",
      "    raise reraise(type(error), error, _stacktrace)\n",
      "          ^^^^^^^^^^^^^^^^^^^^^^^^^^^^^^^^^^^^^^^^\n",
      "  File \"C:\\Users\\ganap\\AppData\\Local\\Packages\\PythonSoftwareFoundation.Python.3.11_qbz5n2kfra8p0\\LocalCache\\local-packages\\Python311\\site-packages\\urllib3\\util\\util.py\", line 39, in reraise\n",
      "    raise value\n",
      "  File \"C:\\Users\\ganap\\AppData\\Local\\Packages\\PythonSoftwareFoundation.Python.3.11_qbz5n2kfra8p0\\LocalCache\\local-packages\\Python311\\site-packages\\urllib3\\connectionpool.py\", line 787, in urlopen\n",
      "    response = self._make_request(\n",
      "               ^^^^^^^^^^^^^^^^^^^\n",
      "  File \"C:\\Users\\ganap\\AppData\\Local\\Packages\\PythonSoftwareFoundation.Python.3.11_qbz5n2kfra8p0\\LocalCache\\local-packages\\Python311\\site-packages\\urllib3\\connectionpool.py\", line 536, in _make_request\n",
      "    self._raise_timeout(err=e, url=url, timeout_value=read_timeout)\n",
      "  File \"C:\\Users\\ganap\\AppData\\Local\\Packages\\PythonSoftwareFoundation.Python.3.11_qbz5n2kfra8p0\\LocalCache\\local-packages\\Python311\\site-packages\\urllib3\\connectionpool.py\", line 367, in _raise_timeout\n",
      "    raise ReadTimeoutError(\n",
      "urllib3.exceptions.ReadTimeoutError: HTTPSConnectionPool(host='www.mckinsey.com', port=443): Read timed out. (read timeout=15)\n",
      "\n",
      "During handling of the above exception, another exception occurred:\n",
      "\n",
      "Traceback (most recent call last):\n",
      "  File \"c:\\Users\\ganap\\Documents\\projects 25\\gcp task\\preprocessor\\preprocess_data.py\", line 23, in process_webpage\n",
      "    response = requests.get(url, headers=headers, timeout=15)\n",
      "               ^^^^^^^^^^^^^^^^^^^^^^^^^^^^^^^^^^^^^^^^^^^^^^\n",
      "  File \"C:\\Users\\ganap\\AppData\\Local\\Packages\\PythonSoftwareFoundation.Python.3.11_qbz5n2kfra8p0\\LocalCache\\local-packages\\Python311\\site-packages\\requests\\api.py\", line 73, in get\n",
      "    return request(\"get\", url, params=params, **kwargs)\n",
      "           ^^^^^^^^^^^^^^^^^^^^^^^^^^^^^^^^^^^^^^^^^^^^\n",
      "  File \"C:\\Users\\ganap\\AppData\\Local\\Packages\\PythonSoftwareFoundation.Python.3.11_qbz5n2kfra8p0\\LocalCache\\local-packages\\Python311\\site-packages\\requests\\api.py\", line 59, in request\n",
      "    return session.request(method=method, url=url, **kwargs)\n",
      "           ^^^^^^^^^^^^^^^^^^^^^^^^^^^^^^^^^^^^^^^^^^^^^^^^^\n",
      "  File \"C:\\Users\\ganap\\AppData\\Local\\Packages\\PythonSoftwareFoundation.Python.3.11_qbz5n2kfra8p0\\LocalCache\\local-packages\\Python311\\site-packages\\requests\\sessions.py\", line 589, in request\n",
      "    resp = self.send(prep, **send_kwargs)\n",
      "           ^^^^^^^^^^^^^^^^^^^^^^^^^^^^^^\n",
      "  File \"C:\\Users\\ganap\\AppData\\Local\\Packages\\PythonSoftwareFoundation.Python.3.11_qbz5n2kfra8p0\\LocalCache\\local-packages\\Python311\\site-packages\\requests\\sessions.py\", line 703, in send\n",
      "    r = adapter.send(request, **kwargs)\n",
      "        ^^^^^^^^^^^^^^^^^^^^^^^^^^^^^^^\n",
      "  File \"C:\\Users\\ganap\\AppData\\Local\\Packages\\PythonSoftwareFoundation.Python.3.11_qbz5n2kfra8p0\\LocalCache\\local-packages\\Python311\\site-packages\\requests\\adapters.py\", line 713, in send\n",
      "    raise ReadTimeout(e, request=request)\n",
      "requests.exceptions.ReadTimeout: HTTPSConnectionPool(host='www.mckinsey.com', port=443): Read timed out. (read timeout=15)\n",
      "\n",
      "Article 80 extraction complete\n",
      "Article 81 extraction complete\n",
      "https://utahnewsdispatch.com/2025/08/19/smith-entertainment-group-new-music-venue-near-delta-center/: Failed to fetch page: 403\n",
      "Article 82 extraction complete\n",
      "https://www.nytimes.com/2025/08/22/movies/five-international-movies-to-stream-now.html: Failed to fetch page: 403\n",
      "Article 83 extraction complete\n",
      "Article 84 extraction complete\n",
      "Article 85 extraction complete\n",
      "Article 86 extraction complete\n",
      "Article 87 extraction complete\n",
      "Article 88 extraction complete\n",
      "Article 89 extraction complete\n",
      "Article 90 extraction complete\n",
      "https://www.nytimes.com/2025/08/22/movies/9-new-movies-our-critics-are-talking-about-this-week.html: Failed to fetch page: 403\n",
      "Article 91 extraction complete\n",
      "Article 92 extraction complete\n",
      "Article 93 extraction complete\n",
      "https://www.nytimes.com/2025/08/22/movies/five-free-movies-to-stream-now.html: Failed to fetch page: 403\n",
      "https://www.forbes.com/sites/erikkain/2025/08/16/what-to-watch-this-weekend-new-shows-and-movies-to-stream-on-netflix-hulu-prime-video-apple-tv-and-more/: Content too short or access restricted\n",
      "Article 94 extraction complete\n",
      "Article 95 extraction complete\n",
      "Article 96 extraction complete\n",
      "Article 97 extraction complete\n",
      "Article 98 extraction complete\n",
      "Article 99 extraction complete\n",
      "Article 100 extraction complete\n",
      "Article 101 extraction complete\n",
      "Article 102 extraction complete\n",
      "Article 103 extraction complete\n",
      "Article 104 extraction complete\n",
      "Article 105 extraction complete\n",
      "Article 106 extraction complete\n",
      "Preprocessed and data stored in ./data/preprocessed_news.csv\n"
     ]
    }
   ],
   "source": [
    "from preprocessor import extract_and_preprocess\n",
    "result=extract_and_preprocess()\n",
    "print(result)"
   ]
  },
  {
   "cell_type": "markdown",
   "id": "c91a53cd",
   "metadata": {},
   "source": [
    "## 🧹 Step 4: Final Merging & Cleanup\n",
    "\n",
    "> **Merge raw and preprocessed news data, automatically filtering out failed or low-quality records for a pristine analysis dataset.**\n",
    "\n",
    "This step will:\n",
    "- 🤝 Combine `raw_news.csv` and `preprocessed_news.csv`\n",
    "- 🚫 Remove rows with errors (e.g., \"Failed to fetch page\", \"ERROR\" tags)\n",
    "- 💎 Output the clean, final dataset: `./data/news.csv`\n",
    "\n",
    "**Execute the merge & cleanup:**\n",
    "\n"
   ]
  },
  {
   "cell_type": "code",
   "execution_count": 1,
   "id": "504e3acc",
   "metadata": {},
   "outputs": [
    {
     "data": {
      "text/plain": [
       "'Data combined at ./data/news.csv '"
      ]
     },
     "execution_count": 1,
     "metadata": {},
     "output_type": "execute_result"
    }
   ],
   "source": [
    "from preprocessor import combine_data\n",
    "combine_data()"
   ]
  },
  {
   "cell_type": "code",
   "execution_count": 5,
   "id": "3b6edc57",
   "metadata": {},
   "outputs": [
    {
     "data": {
      "text/html": [
       "<div>\n",
       "<style scoped>\n",
       "    .dataframe tbody tr th:only-of-type {\n",
       "        vertical-align: middle;\n",
       "    }\n",
       "\n",
       "    .dataframe tbody tr th {\n",
       "        vertical-align: top;\n",
       "    }\n",
       "\n",
       "    .dataframe thead th {\n",
       "        text-align: right;\n",
       "    }\n",
       "</style>\n",
       "<table border=\"1\" class=\"dataframe\">\n",
       "  <thead>\n",
       "    <tr style=\"text-align: right;\">\n",
       "      <th></th>\n",
       "      <th>category</th>\n",
       "      <th>headline</th>\n",
       "      <th>url</th>\n",
       "      <th>extracted_text</th>\n",
       "      <th>sentiment</th>\n",
       "      <th>entities</th>\n",
       "      <th>detailed_category</th>\n",
       "    </tr>\n",
       "  </thead>\n",
       "  <tbody>\n",
       "    <tr>\n",
       "      <th>0</th>\n",
       "      <td>AI</td>\n",
       "      <td>Eye on AI: Applying Artificial Intelligence to...</td>\n",
       "      <td>https://www.aacr.org/blog/2025/08/18/eye-on-ai...</td>\n",
       "      <td>Artificial intelligence (AI) may be all over t...</td>\n",
       "      <td>Sentiment score 0.10000000149011612 , Sentimen...</td>\n",
       "      <td>name:AI type: 3 Salience 0.010502318851649761,...</td>\n",
       "      <td>Category:/Health/Health Conditions/Cancer , Ca...</td>\n",
       "    </tr>\n",
       "    <tr>\n",
       "      <th>1</th>\n",
       "      <td>AI</td>\n",
       "      <td>Prediction: These 3 Artificial Intelligence (A...</td>\n",
       "      <td>https://www.fool.com/investing/2025/08/18/pred...</td>\n",
       "      <td>Ten years. $10 trillion. Easy peasy?\\n\\nIt too...</td>\n",
       "      <td>Sentiment score 0.10000000149011612 , Sentimen...</td>\n",
       "      <td>name:Nvidia type: 3 Salience 0.111334152519702...</td>\n",
       "      <td>Category:/Business &amp; Industrial , Category_con...</td>\n",
       "    </tr>\n",
       "    <tr>\n",
       "      <th>2</th>\n",
       "      <td>AI</td>\n",
       "      <td>Why I keep telling you about AI (artificial in...</td>\n",
       "      <td>https://www.timberjay.com/stories/why-i-keep-t...</td>\n",
       "      <td>Posted Thursday, August 21, 2025 8:22 am\\n\\nI ...</td>\n",
       "      <td>Sentiment score -0.10000000149011612 , Sentime...</td>\n",
       "      <td>name:Joe Q. Public type: 1 Salience 0.18942336...</td>\n",
       "      <td>Category:None , Category_confidence:0%</td>\n",
       "    </tr>\n",
       "    <tr>\n",
       "      <th>3</th>\n",
       "      <td>AI</td>\n",
       "      <td>Research suggests doctors might quickly become...</td>\n",
       "      <td>https://www.npr.org/sections/shots-health-news...</td>\n",
       "      <td>Research suggests doctors might quickly become...</td>\n",
       "      <td>Sentiment score -0.20000000298023224 , Sentime...</td>\n",
       "      <td>name:Johan Hulleman type: 1 Salience 0.0839435...</td>\n",
       "      <td>Category:/Health/Health Conditions , Category_...</td>\n",
       "    </tr>\n",
       "    <tr>\n",
       "      <th>4</th>\n",
       "      <td>AI</td>\n",
       "      <td>Research suggests doctors might quickly become...</td>\n",
       "      <td>https://www.npr.org/sections/shots-health-news...</td>\n",
       "      <td>Research suggests doctors might quickly become...</td>\n",
       "      <td>Sentiment score -0.20000000298023224 , Sentime...</td>\n",
       "      <td>name:Johan Hulleman type: 1 Salience 0.0839435...</td>\n",
       "      <td>Category:/Health/Health Conditions , Category_...</td>\n",
       "    </tr>\n",
       "  </tbody>\n",
       "</table>\n",
       "</div>"
      ],
      "text/plain": [
       "  category                                           headline  \\\n",
       "0       AI  Eye on AI: Applying Artificial Intelligence to...   \n",
       "1       AI  Prediction: These 3 Artificial Intelligence (A...   \n",
       "2       AI  Why I keep telling you about AI (artificial in...   \n",
       "3       AI  Research suggests doctors might quickly become...   \n",
       "4       AI  Research suggests doctors might quickly become...   \n",
       "\n",
       "                                                 url  \\\n",
       "0  https://www.aacr.org/blog/2025/08/18/eye-on-ai...   \n",
       "1  https://www.fool.com/investing/2025/08/18/pred...   \n",
       "2  https://www.timberjay.com/stories/why-i-keep-t...   \n",
       "3  https://www.npr.org/sections/shots-health-news...   \n",
       "4  https://www.npr.org/sections/shots-health-news...   \n",
       "\n",
       "                                      extracted_text  \\\n",
       "0  Artificial intelligence (AI) may be all over t...   \n",
       "1  Ten years. $10 trillion. Easy peasy?\\n\\nIt too...   \n",
       "2  Posted Thursday, August 21, 2025 8:22 am\\n\\nI ...   \n",
       "3  Research suggests doctors might quickly become...   \n",
       "4  Research suggests doctors might quickly become...   \n",
       "\n",
       "                                           sentiment  \\\n",
       "0  Sentiment score 0.10000000149011612 , Sentimen...   \n",
       "1  Sentiment score 0.10000000149011612 , Sentimen...   \n",
       "2  Sentiment score -0.10000000149011612 , Sentime...   \n",
       "3  Sentiment score -0.20000000298023224 , Sentime...   \n",
       "4  Sentiment score -0.20000000298023224 , Sentime...   \n",
       "\n",
       "                                            entities  \\\n",
       "0  name:AI type: 3 Salience 0.010502318851649761,...   \n",
       "1  name:Nvidia type: 3 Salience 0.111334152519702...   \n",
       "2  name:Joe Q. Public type: 1 Salience 0.18942336...   \n",
       "3  name:Johan Hulleman type: 1 Salience 0.0839435...   \n",
       "4  name:Johan Hulleman type: 1 Salience 0.0839435...   \n",
       "\n",
       "                                   detailed_category  \n",
       "0  Category:/Health/Health Conditions/Cancer , Ca...  \n",
       "1  Category:/Business & Industrial , Category_con...  \n",
       "2             Category:None , Category_confidence:0%  \n",
       "3  Category:/Health/Health Conditions , Category_...  \n",
       "4  Category:/Health/Health Conditions , Category_...  "
      ]
     },
     "execution_count": 5,
     "metadata": {},
     "output_type": "execute_result"
    }
   ],
   "source": [
    "import pandas as pd\n",
    "final_df=pd.read_csv('./data/news.csv')\n",
    "final_df.head()"
   ]
  },
  {
   "cell_type": "markdown",
   "id": "2d3ebc55",
   "metadata": {},
   "source": [
    "## 🏢 Step 6: Insert Preprocessed Data into BigQuery\n",
    "\n",
    "> **Store your cleaned news dataset in Google BigQuery for powerful querying, analytics, and downstream applications.**\n",
    "\n",
    "This step will:\n",
    "- 📤 Upload `./data/news.csv` directly into your chosen BigQuery dataset and table\n",
    "- 🗂️ Enable SQL queries across all preprocessed news\n",
    "- 🔒 Ensure your data is securely stored in the cloud\n",
    "\n",
    "**Run the BigQuery ingestion:**\n",
    "\n"
   ]
  },
  {
   "cell_type": "code",
   "execution_count": 2,
   "id": "c73a1d0c",
   "metadata": {},
   "outputs": [
    {
     "name": "stdout",
     "output_type": "stream",
     "text": [
      "Created dataset news in location US\n",
      "Loaded 108 rows into logical-stacker-469820-v4.news.news_data\n",
      "Table logical-stacker-469820-v4.news.news_data now has 108 rows and 7 columns\n"
     ]
    }
   ],
   "source": [
    "from preprocessor import create_table_from_csv_direct\n",
    "\n",
    "create_table_from_csv_direct('./data/news.csv')"
   ]
  },
  {
   "cell_type": "markdown",
   "id": "2dacb5c2",
   "metadata": {},
   "source": [
    "## 🛠️ Step 7: Initialize Tools for BigQuery Operations\n",
    "\n",
    "> **Set up convenient helpers to run queries and interact with your BigQuery news dataset effortlessly.**\n",
    "\n",
    "The `Bq_tools` class will:\n",
    "- 🔎 Provide handy methods for searching and filtering news by category or search term\n",
    "- ⚡ Let you run analytical SQL queries on your curated dataset\n",
    "- 🤖 Simplify downstream usage in your notebook (just call the methods as needed!)\n",
    "\n",
    "**Initialize your BigQuery tools:**\n",
    "\n"
   ]
  },
  {
   "cell_type": "code",
   "execution_count": 2,
   "id": "2aad0521",
   "metadata": {},
   "outputs": [
    {
     "name": "stderr",
     "output_type": "stream",
     "text": [
      "C:\\Users\\ganap\\AppData\\Local\\Packages\\PythonSoftwareFoundation.Python.3.11_qbz5n2kfra8p0\\LocalCache\\local-packages\\Python311\\site-packages\\google\\cloud\\bigquery\\table.py:1994: UserWarning: BigQuery Storage module not found, fetch data with the REST endpoint instead.\n",
      "  warnings.warn(\n",
      "C:\\Users\\ganap\\AppData\\Local\\Packages\\PythonSoftwareFoundation.Python.3.11_qbz5n2kfra8p0\\LocalCache\\local-packages\\Python311\\site-packages\\google\\cloud\\bigquery\\table.py:1994: UserWarning: BigQuery Storage module not found, fetch data with the REST endpoint instead.\n",
      "  warnings.warn(\n"
     ]
    }
   ],
   "source": [
    "from agents.tools import Bq_tools\n",
    "\n",
    "tools=Bq_tools()\n",
    "category_result=tools.get_news_by_category(\"tech\")\n",
    "keyword_result=tools.get_news_by_search_term('openai')"
   ]
  },
  {
   "cell_type": "code",
   "execution_count": 3,
   "id": "ac8363ab",
   "metadata": {},
   "outputs": [
    {
     "data": {
      "text/plain": [
       "[{'headline': 'Why Did a $10 Billion Startup Let Me Vibe-Code for Them—and Why Did I Love It?',\n",
       "  'extracted_text': 'Sitting a few feet away was Simon Last, one of Notion’s three cofounders. He is gangly and shy, an engineer who has relinquished management responsibilities to focus on being a “super IC”—an individual contributor. He stood to shake my hand, and I awkwardly thanked him for letting me vibe-code. Simon returned to his laptop, where he was monitoring an AI as it coded for him. Later, he would tell me that using AI coding apps was like managing a bunch of interns.\\n\\nSince 2022, the Notion app has had an AI assistant to help users draft their notes. Now the company is refashioning this as an “agent,” a type of AI that will work autonomously in the background on your behalf while you tackle other tasks. To pull this off, human engineers need to write lots of code.\\n\\nThey open up Cursor and select which of several AI models they’d like to tap into. Most engineers I chatted with during my visit preferred Claude, or they used the Claude Code app directly. After choosing their fighter, the engineers ask their AI to draft code to build a new thing or fix a feature. The human programmer then debugs and tests the output as needed—though the AIs help with this too—before moving the code to production.\\n\\nAt its foundational core, generative AI is enormously expensive. The theoretical savings come in the currency of time, which is to say, if AI helped Notion’s cofounder and CEO Ivan Zhao finish his tasks earlier than expected, he could mosey down to the jazz club on the ground floor of his Market Street office building and bliss out for a while. Ivan likes jazz music. In reality, he fills the time by working more. The fantasy of the four-day workweek will remain just that.\\n\\nMy workweek at Notion was just two days, the ultimate code sprint. (In exchange for full access to their lair, I agreed to identify rank-and-file engineers by first name only.) My first assignment was to fix the way a chart called a mermaid diagram appears in the Notion app. Two engineers, Quinn and Modi, told me that these diagrams exist as SVG files in Notion and, despite being called scalable vector graphics, can’t be scaled up or zoomed into like a JPEG file. As a result, the text within mermaid diagrams on Notion is often unreadable.\\n\\nQuinn slid his laptop toward me. He had the Cursor app open and at the ready, running Claude. For funsies, he scrolled through part of Notion’s code base. “So, the Notion code base? Has a lot of files. You probably, even as an engineer, wouldn’t even know where to go,” he said, politely referring to me as an engineer. “But we’re going to ignore all that. We’re just going to ask the AI on the sidebar to do that.”\\n\\nHis vibe-coding strategy, Quinn explained, was often to ask the AI: Hey, why is this thing the way it is? The question forces the AI to do a bit of its own research first, and the answer helps inform the prompt that we, the human engineers, would write. After “thinking,” Cursor informed us, via streaming lines of text, that Notion’s mermaid diagrams are static images that, among other things, lack click handlers and aren’t integrated with a full-screen infrastructure. Sure.',\n",
       "  'sentiment': 'Sentiment score 0.0 , Sentiment Magnitude 12.699999809265137',\n",
       "  'entities': 'name:Simon Last type: 1 Salience 0.42851388454437256, name:Cursor type: 1 Salience 0.00048487677122466266, name:human engineers type: 1 Salience 0.022347796708345413, name:AI type: 3 Salience 0.016246316954493523, name:laptop type: 6 Salience 0.015589018352329731, name:cofounders type: 1 Salience 0.012854859232902527, name:engineers type: 1 Salience 0.00998616125434637, name:mermaid diagrams type: 5 Salience 0.007001908961683512, name:Quinn type: 1 Salience 0.006312470883131027, name:contributor type: 1 Salience 0.005438751075416803, name:users type: 1 Salience 0.005184086970984936, name:app type: 6 Salience 0.0029690193478018045, name:Ivan Zhao type: 1 Salience 0.002789633348584175, name:AI coding apps type: 6 Salience 0.002062081592157483, name:interns type: 1 Salience 0.0020368709228932858, name:agent type: 1 Salience 0.002028457587584853, name:company type: 3 Salience 0.002028457587584853, name:workweek type: 4 Salience 0.001617479370906949, name:fighter type: 1 Salience 0.0015967233339324594, name:engineer type: 1 Salience 0.0015754711348563433'},\n",
       " {'headline': '2025 Distressed Communities Index',\n",
       "  'extracted_text': 'The Distressed Communities Index (DCI) is a leading resource for understanding the geography of economic distress and opportunity in the United States. First launched by the Economic Innovation Group in 2015 and updated annually, this groundbreaking dataset offers a comprehensive view of local economic health across the country — empowering the work of researchers, policymakers, investors, and community leaders alike.\\n\\nThe DCI has earned wide recognition and trust, cited by The New York Times, The Wall Street Journal, The Washington Post, and hundreds of national and local media outlets. It has been used in influential academic research across disciplines, from economics and political science to public health and urban planning. Its insights have shaped legislation, guided philanthropic initiatives, and informed private sector business strategies.',\n",
       "  'sentiment': 'Sentiment score 0.5 , Sentiment Magnitude 2.5',\n",
       "  'entities': 'name:DCI type: 3 Salience 0.502357542514801, name:United States type: 2 Salience 0.013562033884227276, name:researchers type: 1 Salience 0.008586169220507145, name:policymakers type: 1 Salience 0.007546442095190287, name:investors type: 1 Salience 0.007546442095190287, name:community leaders type: 1 Salience 0.007546442095190287, name:country type: 2 Salience 0.007454569451510906, name:Economic Innovation Group type: 3 Salience 0.006535578519105911, name:The New York Times type: 3 Salience 0.004079694394022226, name:The Wall Street Journal type: 3 Salience 0.004079694394022226, name:legislation type: 5 Salience 0.0036181786563247442, name:media outlets type: 3 Salience 0.0022822837345302105, name:hundreds type: 1 Salience 0.0022822837345302105, name:The Washington Post type: 3 Salience 0.0013491022400557995'},\n",
       " {'headline': '‘It’s going to be a big deal’: The NFL and Microsoft expand their partnership and introduce sideline technology using AI innovation',\n",
       "  'extracted_text': 'In the lightning-quick world of the National Football League (NFL), there’s very little time to noodle on decisions. Speed is of the essence and every second matters. The sideline is hectic, the crowd raucous. Utilizing technology can be a swing factor in a league where the margins are thin between victory and defeat.\\n\\n“The game’s not stopping. You have 40 seconds between each play or 25 seconds out of a clock stoppage. These decisions happen quickly,” says Los Angeles Rams coach Sean McVay.\\n\\n“There are external factors that distract you from being able to make the best decisions. You look back and say, ‘What was I thinking?’ By being able to have this technology, it will help you be able to make more consistent decisions that are in alignment with what you want to do to ultimately put your players in the best places in a game that has so many moving parts.”\\n\\nLos Angeles Rams coach Sean McVay. (Photo by Scott Eklund/Red Box Pictures)\\n\\nToday, the NFL and Microsoft announced a multi-year strategic partnership extension to help usher in a new era of AI innovation throughout the league. Microsoft Copilot and Azure AI will help enhance the way coaches and players connect insights from the sideline to play on the field. It will also transform the workplace experience for football and business operations staff off the field.\\n\\nThe NFL is one of the world’s most popular sports leagues, with 335 events each season and hundreds of millions of fans across the globe. Incorporating the new Microsoft solutions will help drive innovation and enhance the game day experience leaguewide from the sideline to team headquarters to the league office.\\n\\n“We are entering a new era of innovation at the NFL through our collaboration with Microsoft to deploy AI across key areas of the business,” says Gary Brantley, CIO of the NFL. “Enhancing the league is a responsibility we take seriously, and Microsoft has been a trusted sideline technology partner for over a decade. With Microsoft’s AI technologies, including Copilot, there are tremendous opportunities to elevate the game day experience for our clubs and deliver an even more compelling product to our fans.”\\n\\nClick here to load media\\n\\nAI on the sideline\\n\\nFrom game day insights to strategic decision-making, utilizing tools like the Sideline Viewing System (SVS) powered by Copilot will enable coaches and players to access and analyze data in real-time to help make more informed decisions in a more efficient and customized way.\\n\\nFor example, in what formation was the defense when it forced a turnover? An offensive unit can use the SVS and Copilot to filter game-changing moments like that to help gain some insight on why a play turned out the way it did.\\n\\nMcVay has been one of the coaches at the forefront of using technology to assist with his game day preparation and in-game adjustments. The Super Bowl-winning coach of the Rams says being able to give his players the information they need in the heat of battle is key.\\n\\nCoach McVay, an early adopter of sideline technology, holds a Sideline Viewing System (SVS) device. (Photo by Scott Eklund/Red Box Pictures)\\n\\n“This is a space that we’ve really leaned heavily into,” McVay says. “It’s coming and it’s going to be a valuable tool. You can’t run away from it. This is an opportunity for us to say – in a league that has such small margins of victory week in and week out because of the level of competition – what are some of the ways that we can create edges or win in the margins?”\\n\\nThis season, the SVS has been upgraded with 2,500-plus Surface Copilot+ PCs to equip 32 teams, roughly 1,800 players and more than 1,000 coaches and team football staff with real-time game data and insights.\\n\\nCoaches and players can access a new SVS feature built with GitHub Copilot to filter real-time key moments like penalties, fumbles and scoring plays, and collaborate between the sidelines and the coaches’ booth to analyze plays through their devices.\\n\\nThe new AI-powered filtering feature of the NFL’s SVS will allow users to filter key plays like touchdowns and penalties in real time, minimizing the need for manual searches. (Photo by Dmytro Savchuk)\\n\\nWhile some players and position groups may be more comfortable with using sideline devices during the game, some of the hidden benefits of using AI solutions can occur during the week leading up to the contest, when players are being asked to absorb a large amount of information about themselves and their opponents.\\n\\n“If we can really be able to say that the amount of information we want to give to a player can be provided in a digestible manner in 30 minutes as opposed to an hour, well now, that’s 30 minutes he can spend maybe resting and recovering,” McVay says. “That’s something we’re always hunting up, because time is one of our most valuable resources. If we’re able to get a lot more done in less time, I think that allows us to be at our best.”\\n\\nWith so many devices featuring so much critical information, functionality and security are essential. Microsoft worked closely with the NFL to ensure that the SVS works smoothly if it’s a snowy day in Green Bay or when the league goes abroad to Dublin, Ireland for the first time in September.\\n\\nThe Microsoft charging carts provide power and hardwired ethernet connection to the devices, allowing the sideline system to continue to operate if Wi-Fi goes down. (Photo by Dmytro Savchuk)\\n\\nSecurity is also paramount. The SVS system is connected to NFL-managed Windows servers that enable teams to use the devices without any concern of outside interference.\\n\\n“What does it mean to roll out technology in our environment?” says Aaron Amendolia, the NFL’s deputy chief information officer. “The elements are super important. We play in all different types of stadiums. There’re covered domes. There’s weather exposure. The device has to work in all these conditions. The battery has to be reliable. And it also has to have connectivity across all regions of the world.\\n\\n“You’ve got 2,500 devices in play here. There’s a partnership (with Microsoft) to make sure these devices have all the right patches for security, that the device itself is robust, that we’ve built security into the designs of our applications, and that the AI has governance and security and trust around it. Because this is our most sensitive data around the game.”\\n\\nAaron Amendolia. (Photo courtesy of the NFL)\\n\\nBeyond the sideline\\n\\nWhile AI on the sidelines allows teams to make decisions with speed and confidence, there are other scenarios where technology helps teams push for an edge on the road to game day. In addition to upgrading the SVS, this year the NFL is deploying an upgraded dashboard created with Excel and paired with Microsoft 365 Copilot to assist team data analysts – one of the fastest-growing staff positions in the NFL as more teams utilize this unique role to help pull data insights to bolster game strategies.\\n\\nThe new dashboard can help with formula building, data visualization and improved data types. The dashboard is found on a Surface Laptop 7 that is connected to each team’s analyst and can’t be used outside of game day. The analyst gains control of the spreadsheet 30 minutes before kickoff in the coaches’ booth.\\n\\nFor the Rams, McVay notes that having the analysts use Copilot will speed up the process of gathering information, which can be critical in recognizing offensive and defensive formations, seeing how teams dial up defenses based on down and distance, and making halftime adjustments.\\n\\nAnalysts can use Copilot to generate formulas, apply formatting and visualize trends. As shown, Copilot applies conditional formatting to highlight players that had played more than 50 offensive snaps and 50 or more rushing yards.\\n\\n“We have people up in the booth who are responsible for charting a lot of the things that Copilot can sequence and segment in a much more accelerated manner, and so that’s going to allow us to be able to make better in-game decisions,” he says. “And it’s going to increase the overall efficiency of what we’re trying to get to our players in real-time. It’s going to be a big deal for us.”\\n\\nThe latest developments in the partnership between the NFL and Microsoft are the next steps in a 10-plus year relationship between the organizations that began with the shared vision of harnessing technology to unlock new levels of performance and insights. The results are a long way from the old days of teams sending pictures of formations from the coaches’ box to the sideline via a wire.\\n\\n“We used to do a lot of this work with paper on the sidelines,” Amendolia says. “We had printers and a big infrastructure to support that. And then we digitized and moved to the Surface device and that was sort of the first step. And now AI and Copilot are going to be very impactful.”\\n\\nA Microsoft Surface tablet in use during an NFL football game between the Los Angeles Chargers and the Detroit Lions on July 31, 2025 in Canton, Ohio. (Ben Liebenberg via AP)\\n\\nThe future of football\\n\\nThat impact goes beyond the sideline into overall game operations and as teams search for the next generation of stars. The NFL is using Microsoft AI for several off-the-field use cases for football and business operations staff.\\n\\nDuring the 2025 NFL Combine, scouts and coaches used an enhanced app built with Microsoft Azure AI Foundry to provide more intelligent and real-time insights from more than 300 prospects. Individual clubs like the Tampa Bay Buccaneers, New York Jets and Minnesota Vikings used Copilot to help with marketing, promotion efforts and fan engagement.\\n\\nMinnesota Vikings running back Aaron Jones (33) scores on a 15-yard touchdown run during the second half of an NFL football game against the Atlanta Falcons on Dec. 8, 2024, in Minneapolis. (AP Photo/Bruce Kluckhohn)\\n\\nThe NFL and Microsoft also are looking into other ways Copilot can boost the game day experience, including an operations dashboard to track and plan for elements that could impact game day operations, and Copilot-powered game summaries for both NFL teams and fans to gain a deeper understanding of what’s happening on the field.\\n\\nAs the 2025 season kicks off, fans should get used to the sight of coaches and players throughout the NFL scouring their SVS systems to help them achieve optimal outcomes, as more teams and players get comfortable with the benefits the technology provides.\\n\\n“When I look at when I started coaching back in 2008 to where it is now, it’s amazing to me,” McVay says. “The amount of information that’s at your fingertips is so valuable. When you look at the accelerated pace at which this is coming into our game and what a prominent part of our game it’s become, it’s important to embrace it. Because you’ll be behind if you don’t.”\\n\\nLearn how the NFL is using AI on and off the field to enhance operations.\\n\\nTop photo: Houston Texans running back Joe Mixon (28) shows the offensive line a play on a Microsoft Surface device during a game against the New York Jets, Oct. 31, 2024, in East Rutherford, N.J. (Margaret Bowles via AP)',\n",
       "  'sentiment': 'Sentiment score 0.20000000298023224 , Sentiment Magnitude 33.900001525878906',\n",
       "  'entities': 'name:National Football League type: 3 Salience 0.2014007717370987, name:Sean McVay type: 1 Salience 0.09709515422582626, name:Microsoft type: 3 Salience 0.06043475493788719, name:players type: 1 Salience 0.048570383340120316, name:SVS type: 3 Salience 0.01447237841784954, name:game type: 5 Salience 0.013274201191961765, name:CIO type: 3 Salience 0.011383049190044403, name:coaches type: 1 Salience 0.006070827599614859, name:world type: 2 Salience 0.005256478674709797, name:Los Angeles Rams type: 3 Salience 0.004924855660647154, name:play type: 5 Salience 0.004376314114779234, name:space type: 2 Salience 0.0032792917918413877, name:Photo type: 5 Salience 0.00037541132769547403, name:player type: 1 Salience 0.002727764192968607, name:business operations staff type: 1 Salience 0.0026435821782797575, name:crowd type: 1 Salience 0.0025725492741912603, name:coach type: 1 Salience 0.0024007479660212994, name:victory type: 4 Salience 0.002281877212226391, name:Aaron Amendolia type: 1 Salience 0.0021868040785193443, name:places type: 2 Salience 0.001981800887733698'},\n",
       " {'headline': 'EY US - Home | Building a better working world',\n",
       "  'extracted_text': 'Will you shape the future or be shaped by it?\\n\\nWe believe the best way to predict the future is to create it. And that takes confidence. The confidence to ask better questions and act on those answers, the confidence to empower your workforce, the confidence to transform, innovate and change. Find out how we’re committed to helping the world’s organizations achieve this.',\n",
       "  'sentiment': 'Sentiment score 0.30000001192092896 , Sentiment Magnitude 1.899999976158142',\n",
       "  'entities': 'name:organizations type: 3 Salience 0.02591128647327423, name:world type: 2 Salience 0.02591128647327423'},\n",
       " {'headline': 'Binghamton student-faculty team wins $50,000 in startup competition - Binghamton News',\n",
       "  'extracted_text': 'Creating a business is usually not part of the plan for faculty members and researchers. But Assistant Professor Jayson Boubin now hopes to commercialize his work on specialized cameras for drones, thanks to encouragement from the Office of Entrepreneurship and Innovation Partnerships (EIP).\\n\\nBoubin and Melika Dastranj, PhD ’28, participated in the SUNY Summer Startup School (S4) this summer and took home the grand prize of $50,000 as the winner of Demo Day.\\n\\nS4, in its sixth year, has grown to include 222 SUNY students, faculty and staff from 30 SUNY campuses. Fifteen teams pitched their innovations to a full room at Demo Day, which was a new experience for Boubin.\\n\\n“Lately, when you’re applying for funding or a grant, it’s less about written applications and more of you pitching your tech in a closed room to a small group,” said Boubin, a faculty member at the Thomas J. Watson College of Engineering and Applied Science’s School of Computing. “Getting to watch everyone’s pitches, seeing everyone’s reactions and having a room full of encouragement was so energizing.”\\n\\nAt S4 Demo Day, Boubin was amazed at the other pitches and the advances being made across SUNY.\\n\\n“My colleague, [SUNY Empire Innovation Professor] Nancy Guo, is doing such advanced work in AI diagnostics for cancer; she did an incredible job,” he said. “I was also blown away by a student from SSIE [Watson’s School of Systems Science and Industrial Engineering], Rommel Trotman — he was inspired to create Balance Socks, a balance-sensing tech that monitors patients’ stability to help assess and prevent falls. It was inspired by his mother’s experience as a nurse in a hospital.”\\n\\nS4 has been incorporated as one of the components of Binghamton’s Excellence in Entrepreneurship and Discovery (EXCEED) Pre-Accelerator Program, which is supported by a National Science Foundation Accelerating Research Translation (ART) grant.\\n\\nKathryn Cherny, PhD ’18, manages the ART grant and its various EXCEED programs with the goal of increasing translational research capacity impacts. These impacts are seen through increasing patent filings and licensing, connecting to industry for use-inspired research, supporting spinout companies and advancing a culture of entrepreneurship and innovation reflected by including research translation in promotion and tenure guidelines.\\n\\n“Boubin is an incredible researcher who was able to take a very complex technology and communicate the importance and impact to a non-scientific audience in seven minutes,” said Cherny. “That is a honed skill, just like grant writing, and incredibly hard to do well. This success exemplifies the idea behind EXCEED, which is with strategic support, training, and funding we can accelerate the translation of our faculty’s incredible innovations to real-world impacts.”\\n\\nREMIX, Boubin’s company, aims to simplify this technology enough that anyone with a Federal Aviation Administration license could attach it to a drone and process the necessary data for individual use.\\n\\n“The ‘RE’ in our company name stands for ‘Real Time’” Boubin said. “The camera we are using is processing 250 MB of data per second, which is a lot — that would take up all of the internet capabilities of an entire house, easily.”\\n\\n“MIX” refers to how Boubin’s device can process large amounts of data while detecting true pixels of light from an object and not letting reflections from surrounding objects be mistaken for real things.\\n\\n“This level of detection is game-changing for spotting anomalies like crop disease or picking up contamination in bodies of water before it’s even visible,” he said.\\n\\nAs Boubin heads into the fall semester, he will balance the demands of faculty and business-owner life: “It’s an ongoing learning experience being in these programs, and having the help and guidance of the Office of Entrepreneurship staff has been most impactful for accelerating this technology,” he said. “I’ve learned so much.”\\n\\nWhat’s next for REMIX? More customer discovery: The NSF’s I-Corps model aims for businesses to talk with at least 100 potential customers to understand their needs and develop a path to translate their product or service from lab to market. Boubin and his team are continuing their customer discovery work at a satellite conference in Utah this August.\\n\\nComputer science student Jacqueline Liu, PhD ’27, is returning to Boubin’s lab this fall after a summer internship with the Air Force Research Laboratory (AFRL), where she continued her research that applies to the REMIX solutions with aerospace and defense applications. Liu is a Science, Mathematics and Research for Transformation (SMART) Student, which is a U.S. Department of Defense scholarship program for STEM students. The internship at AFRL was an opportunity that’s part of the SMART program.\\n\\n“In my role as graduate student intern, I had a lot of flexibility to do any research project that will eventually contribute to my dissertation, so I did research on band selection for hyperspectral imagery (HSI),” Liu said. “My favorite moment from this internship is experiencing the flight test with a miniaturized HSI camera mounted on the drone. Dr. Boubin and my labmates are very talented, and I learned a lot from them.”\\n\\nThe next step after customer discovery is going through a business accelerator program or applying to the Seed Translation Research Project (STRP), which awards up to $150,000 as a grant to support innovation commercialization through EIP’s EXCEED program.\\n\\nBoubin offered this advice to fellow faculty doing research: “The [EIP] office is always sending out opportunities for funding business development to faculty. I really think more faculty ought to take a look around their labs and see what tech or research they’re working on could have a real-world impact.”',\n",
       "  'sentiment': 'Sentiment score 0.30000001192092896 , Sentiment Magnitude 14.699999809265137',\n",
       "  'entities': 'name:Jayson Boubin type: 1 Salience 0.07693502306938171, name:Boubin type: 2 Salience 0.04380911961197853, name:Demo Day type: 3 Salience 0.04231724888086319, name:Jacqueline Liu type: 1 Salience 0.041659388691186905, name:S4 type: 6 Salience 0.036877382546663284, name:researchers type: 1 Salience 0.02699417807161808, name:student type: 1 Salience 0.023690614849328995, name:teams type: 3 Salience 0.019577961415052414, name:SUNY Empire Innovation Professor type: 1 Salience 0.016735941171646118, name:faculty members type: 1 Salience 0.016175750643014908, name:researcher type: 1 Salience 0.01209980621933937, name:faculty type: 1 Salience 0.01094777137041092, name:students type: 1 Salience 0.010103759355843067, name:cameras type: 6 Salience 0.00852245930582285, name:room type: 2 Salience 0.00842705462127924, name:SUNY type: 3 Salience 0.007906622253358364, name:staff type: 1 Salience 0.007708175573498011, name:EIP type: 3 Salience 0.007091873791068792, name:winner type: 1 Salience 0.006795413792133331, name:home type: 2 Salience 0.006795413792133331'}]"
      ]
     },
     "execution_count": 3,
     "metadata": {},
     "output_type": "execute_result"
    }
   ],
   "source": [
    "category_result"
   ]
  },
  {
   "cell_type": "code",
   "execution_count": 4,
   "id": "523b62bb",
   "metadata": {},
   "outputs": [
    {
     "data": {
      "text/plain": [
       "[{'headline': 'Artificial Intelligence And Emotional Intimacy : 1A',\n",
       "  'extracted_text': 'Artificial Intelligence And Emotional Intimacy\\n\\nChatGPT has at least 500 million weekly users. OpenAI CEO Sam Altman says that number is growing extraordinarily fast.\\n\\n\\n\\nWhen the chatbot went through an update a couple weeks ago, it brought to light how many users were relying on AI for their emotional wellbeing and even as a companion.\\n\\n\\n\\nPeople using AI for intimate, personal reasons is a phenomenon that we are only beginning to understand.\\n\\n\\n\\nThere are reports of AI inducing delusional thinking and even psychosis. One survey by Sentio University found that 63 percent of people involved said AI improved their mental health.\\n\\n\\n\\nWith such a powerful tool being privy to our deepest secrets, what guardrails exist to protect users’ wellbeing and privacy? Why are so many people leaning on artificial intelligence for connection in the first place?\\n\\n\\n\\nFind more of our programs online. Listen to 1A sponsor-free by signing up for 1A+ at plus.npr.org/the1a.',\n",
       "  'sentiment': 'Sentiment score 0.0 , Sentiment Magnitude 2.200000047683716',\n",
       "  'entities': 'name:Artificial Intelligence type: 3 Salience 0.21908195316791534, name:Sam Altman type: 1 Salience 0.09788035601377487, name:People type: 1 Salience 0.08002999424934387, name:users type: 1 Salience 0.056167054921388626, name:ChatGPT type: 1 Salience 0.035781536251306534, name:OpenAI type: 3 Salience 0.026729639619588852, name:companion type: 1 Salience 0.011552643030881882, name:people type: 1 Salience 0.009754368104040623, name:Sentio University type: 3 Salience 0.0063065593130886555'}]"
      ]
     },
     "execution_count": 4,
     "metadata": {},
     "output_type": "execute_result"
    }
   ],
   "source": [
    "keyword_result"
   ]
  },
  {
   "cell_type": "markdown",
   "id": "067935a0",
   "metadata": {},
   "source": [
    "## 🤖 Step 8: Launch the Agentic Workflow\n",
    "\n",
    "> **Activate the orchestrator–worker–synthesizer agent graph for smart, scalable, parallelized news summarization!**\n",
    "\n",
    "The agentic workflow graph:\n",
    "- 🧭 **Orchestrates** your query—plans and splits into relevant categories or sections\n",
    "- 🤹 **Spawns parallel LLM workers** for efficient multi-topic summarization\n",
    "- 📝 **Synthesizes results** into a final, concise report—for you or your end users\n",
    "\n",
    "**Load the orchestrator graph:**\n",
    "\n"
   ]
  },
  {
   "cell_type": "code",
   "execution_count": 2,
   "id": "01247f83",
   "metadata": {},
   "outputs": [
    {
     "data": {
      "image/png": "[encoded data removed]",
      "text/plain": [
       "<langgraph.graph.state.CompiledStateGraph object at 0x000001971B1A69D0>"
      ]
     },
     "execution_count": 2,
     "metadata": {},
     "output_type": "execute_result"
    }
   ],
   "source": [
    "from agents import graph\n",
    "\n",
    "graph"
   ]
  },
  {
   "cell_type": "code",
   "execution_count": 3,
   "id": "bb887890",
   "metadata": {},
   "outputs": [
    {
     "name": "stderr",
     "output_type": "stream",
     "text": [
      "C:\\Users\\ganap\\AppData\\Local\\Packages\\PythonSoftwareFoundation.Python.3.11_qbz5n2kfra8p0\\LocalCache\\local-packages\\Python311\\site-packages\\google\\cloud\\bigquery\\table.py:1994: UserWarning: BigQuery Storage module not found, fetch data with the REST endpoint instead.\n",
      "  warnings.warn(\n"
     ]
    },
    {
     "name": "stdout",
     "output_type": "stream",
     "text": [
      "assinging workers\n",
      "synthesizing\n"
     ]
    }
   ],
   "source": [
    "from langchain_core.messages import HumanMessage\n",
    "\n",
    "result = graph.invoke({\"messages\": [HumanMessage(content=\"tell me about the latest ai news\")]})\n"
   ]
  },
  {
   "cell_type": "markdown",
   "id": "bac7b8d8",
   "metadata": {},
   "source": [
    "## 🧭 Step 9: Inspect the Agent Graph's State\n",
    "\n",
    "> **Peek under the hood! Track how your agent graph is planning, dividing, and synthesizing your news query in real time.**\n",
    "\n",
    "Why inspect the graph state?\n",
    "- 🛠️ **Debug:** See each node's output and spot bottlenecks or unexpected results\n",
    "- 🧑‍💻 **Learn:** Understand how the orchestrator, workers, and synthesizer interact\n",
    "- 📈 **Optimize:** Gain insights for tuning performance or adjusting prompts/workflow\n",
    "\n",
    "**Example: View the current state after a run**\n"
   ]
  },
  {
   "cell_type": "code",
   "execution_count": 7,
   "id": "abc491ef",
   "metadata": {},
   "outputs": [
    {
     "data": {
      "text/plain": [
       "['messages', 'planned_sections', 'completed_sections']"
      ]
     },
     "execution_count": 7,
     "metadata": {},
     "output_type": "execute_result"
    }
   ],
   "source": [
    "graph_states=list(result.keys())\n",
    "graph_states\n"
   ]
  },
  {
   "cell_type": "code",
   "execution_count": 9,
   "id": "6a642821",
   "metadata": {},
   "outputs": [
    {
     "data": {
      "text/plain": [
       "[HumanMessage(content='tell me about the latest ai news', additional_kwargs={}, response_metadata={}, id='489a8b4e-4dc0-4a46-b269-901aba5f0482'),\n",
       " HumanMessage(content=\"# Eye on AI: Applying Artificial Intelligence to Drive Cancer Research, Part 2 \\n Artificial intelligence is significantly expanding its role in cancer research and clinical practice, moving beyond traditional imaging analysis to offer sophisticated tools for patient care. Researchers are leveraging AI to enhance the accuracy and efficiency of cancer diagnoses, infer crucial genomic information from standard tissue images, and guide personalized treatment strategies by predicting patient responses. Furthermore, the development of AI-generated synthetic patient data is addressing limitations in model training, potentially broadening access to precision oncology globally. Continued progress in this field necessitates rigorous evaluation, open scientific practices, and collaborative efforts to maximize patient benefit.\\n\\n---\\n\\n# Prediction: These 3 Artificial Intelligence (AI) Stocks Will Be Worth Over $10 Trillion by 2035 \\n A bold prediction suggests several prominent technology companies are on track to achieve unprecedented market valuations exceeding $10 trillion by 2035, fueled by the burgeoning artificial intelligence sector. This outlook is based on anticipated sustained demand for AI processing power, ongoing innovation in core technologies, and the introduction of new AI-integrated products and services. Companies are expected to leverage advancements in areas like cloud computing, advanced hardware, and consumer devices to drive significant expansion. Should these trends materialize, the landscape of global market capitalization could see a dramatic shift, highlighting the transformative economic potential of artificial intelligence in the coming decade.\\n\\n---\\n\\n# Why I keep telling you about AI (artificial intelligence) \\n The widespread and often unnoticed integration of artificial intelligence profoundly shapes individual experiences and decisions across daily life. From seemingly simple digital interactions like search results and autocorrect to complex processes such as financial fraud detection, job applications, and health insurance approvals, algorithmic systems are constantly at play. Many of these influences operate beneath the surface, impacting personal choices and outcomes without direct user awareness. While offering significant benefits in areas like efficiency and security, the pervasive nature of these technologies, some of which are unregulated or driven by commercial interests, necessitates greater public understanding and transparency as a current reality.\\n\\n---\\n\\n# Research suggests doctors might quickly become dependent on AI \\n A recent study suggests that medical professionals might quickly develop an over-reliance on artificial intelligence, potentially diminishing their independent diagnostic abilities. The research observed a significant decline in detection rates for abnormalities during certain medical procedures when AI assistance was removed, following a period of its use. While some experts caution that these findings could stem from statistical variables rather than a loss of skill, the study highlights critical questions about the impact of AI integration on clinical practice. This raises important considerations for how technology influences human expertise in rapidly evolving healthcare environments.\\n\\n---\\n\\n# Research suggests doctors might quickly become dependent on AI \\n A recent study casts a troubling light on the integration of artificial intelligence in medical diagnostics, suggesting a swift decline in human expertise. After a period of using AI-assisted systems for colonoscopies, clinicians demonstrated a notable decrease in their independent ability to spot abnormalities when the AI was inactive, raising serious questions about potential over-reliance. While some express skepticism regarding the study's methodology and the rapid loss of long-honed skills, the findings underscore the urgent need for more comprehensive research into how these powerful tools fundamentally alter professional practice and skill retention.\", additional_kwargs={}, response_metadata={}, id='aa0c02a3-700f-4d43-841b-558b1bee6762')]"
      ]
     },
     "execution_count": 9,
     "metadata": {},
     "output_type": "execute_result"
    }
   ],
   "source": [
    "result['messages']"
   ]
  },
  {
   "cell_type": "code",
   "execution_count": 10,
   "id": "d8b3430c",
   "metadata": {},
   "outputs": [
    {
     "data": {
      "text/plain": [
       "[HumanMessage(content='Eye on AI: Applying Artificial Intelligence to Drive Cancer Research, Part 2 \\nArtificial intelligence (AI) may be all over the news now, but it’s been in oncology clinics for more than three decades, helping oncologists analyze mammograms and other imaging scans to detect signs of cancer—albeit with some limitations. With recent technological advances, however, cancer researchers are now exploring new possibilities for AI, improving existing applications and developing additional ones to expand AI’s role in the clinic.\\n\\nAt the AACR Special Conference on Artificial Intelligence and Machine Learning and the AACR webinar on AI and Machine Learning in IO, presenters discussed how AI can be applied across the cancer research spectrum, highlighting its promise to improve our understanding of cancer biology, accelerate drug development, and improve patient care. In Part 1 of this blog post, we dove into some of the innovative applications for discovery science and translational cancer research discussed at these events.\\n\\nHere, we will examine some of the promising clinical applications of AI, including its ability to enhance cancer diagnosis, guide precision medicine, and even facilitate the development of other clinical AI tools.\\n\\nImproving Cancer Diagnoses\\n\\nAccurate cancer diagnosis is key to ensuring patients receive the appropriate treatment for their cancer. This entails not only identifying cancer type (the organ where the cancer originated), but in many cases also determining the cancer subtype (which can be based on the cell or tissue it affects, the genetic alterations involved, and/or its morphologic features).\\n\\nThe complex process of diagnosing cancer subtypes typically relies on the expertise of pathologists to identify and interpret characteristics from hematoxylin and eosin (H&E)-stained tumor tissue, sometimes supplemented by data from sophisticated and expensive clinical assays like tumor genome sequencing.\\n\\nAI, however, could help make this process more efficient and accessible, according to research presented by Kevin Boehm, MD, PhD, of Memorial Sloan Kettering Cancer Center, during the AACR Special Conference.\\n\\nKevin Boehm, MD, PhD\\n\\n“An area where AI has shown superhuman performance is in pattern recognition and scalability,” said Boehm, noting that AI has the potential to quickly review thousands of H&E images, recognize established histologic patterns, and even identify novel, clinically relevant patterns.\\n\\nBoehm presented an AI architecture designed to infer subtype and genomic information from digitized images of H&E-stained tumor tissue. The first step of the architecture was an AI-based model called AEON, which analyzed H&E images from roughly 80,000 samples to identify patterns that it then used, in combination with information from the open-source cancer classification system OncoTree, to classify the histologic subtype of each tumor.\\n\\nAEON, combined with OncoTree, classified cancer subtypes with 78% accuracy, Boehm reported, and it was able to reclassify tumors into a more granular subtype than they had been assigned by a pathologist. This included reclassifying renal cell carcinomas (RCC) not otherwise specified as either clear cell RCC or papillary RCC subtypes, as well as assigning a cancer type to tumors previously diagnosed as cancers of unknown primary. In most cases, the overall survival of patients with reclassified cancers of unknown primary was consistent with what would be expected for the newly assigned cancer type.\\n\\nIn the second step of the AI architecture, a model called Paladin, also developed by Boehm and colleagues, integrated the granular subtype classifications from AEON with the digitized H&E images to infer genomic properties of each subtype based on patterns captured in the H&E images. Boehm reported that about 5% of the nearly 4,000 variants they examined could be reliably inferred through histologic patterns.\\n\\nBecause AEON identified granular subtypes that are often lumped together, the researchers used Paladin to uncover subtype-specific genotype-phenotype relationships that had been previously masked. MEN1 variants, for example, had been reported to drive pancreatic cancers, but Paladin found that these variants were not as relevant for the neuroendocrine tumor subtype of pancreatic cancer.\\n\\nThis has implications for precision medicine, as targeting certain variants may not be effective against all the subtypes of a particular cancer—underscoring the importance of accurate diagnoses.\\n\\n“We can’t just lump all of these histologies together and infer genomic features,” Boehm said. “Each granular subtype must be considered separately.”\\n\\nBecause the AI architecture relies on H&E images instead of expensive sequencing methods, Boehm suggested that, with further research, it also “has the potential to help extend access to precision oncology to centers where it’s not logistically or financially feasible to run DNA sequencing on a large cohort of patients.”\\n\\n(In another recent blog post, we discussed how AI-driven analysis of digital H&E images enhanced the diagnosis of pediatric sarcomas.)\\n\\nPredicting Treatment Responses\\n\\nAnother emerging clinical application of AI is to predict how a patient’s cancer will respond to a particular treatment. This can help physicians decide which treatment to pursue so that patients can avoid undergoing therapies that are unlikely to be effective.\\n\\nArnav Mehta, MD, PhD\\n\\nDuring the AACR webinar, Arnav Mehta, MD, PhD, of Stanford University, shared recent research that illustrated how AI can help researchers identify biomarkers or intercellular interactions associated with immunotherapy responses and integrate multiple types of data to improve response predictions.\\n\\n“We’re in a really exciting era in how we use machine learning and artificial [intelligence] tools, not just in basic science or at the level of target identification, but really across the entire drug discovery cycle with … better clinical development and patient stratification,” Mehta said.\\n\\nUsing ‘Synthetic’ Patients to Guide Precision Medicine\\n\\nA major obstacle to using AI to predict treatment outcomes, however, is that the development of AI models for this purpose requires large swaths of patient data that are not always available or representative of the patient population.\\n\\nResearch from Hanna Hieromnimon, of the University of Chicago, presented at the AACR Special Conference, suggests that AI-generated patient data—that is, artificial data from synthetic patients—could be one way to overcome this hurdle.\\n\\n“Currently, researchers rely on limited public datasets that may not represent the full diversity of cancer patients,” said Hieromnimon. “Our goal was to create a method that can generate realistic ‘synthetic’ patients—complete with both digital pathology images and clinical data—that could help researchers build better multimodal AI models for cancer diagnosis and treatment [response] prediction.”\\n\\nHanna Hieromnimon\\n\\nHieromnimon and colleagues developed an AI-based tool that was trained on clinical information and digitized histology images from real patients. The model used these inputs to learn the connections between the provided clinical and histologic data and develop a reference map that plotted real patients based on their similarities to one another—the more similar that two patients are, the shorter the distance between them on the reference map. Finally, the model used the reference map as a guide for generating realistic synthetic patients.\\n\\nWhen an AI model was trained on data from 1,000 synthetic lung cancer patients, it predicted immunotherapy responses with similar accuracy as when it was trained on data from 1,630 real patients (68.3% vs. 67.9% accuracy, respectively). And regardless of whether the model was trained on real or synthetic data, it correctly identified bone or liver metastases and lactate dehydrogenase (LDH) levels as prognostic factors.\\n\\n“Synthetic patients were remarkably faithful to real patient data,” Hieromnimon said. She explained that the use of synthetic patients could accelerate the development of AI models by allowing investigators to augment their training data and impute missing data to improve the performance of their models. Synthetic patients could also enhance scientific collaboration, she added, explaining that since synthetic data does not have the same privacy concerns as real patient data, it can be shared more easily—which could help expand the reach of AI-based tools that advance precision medicine.\\n\\n“Precision cancer treatment relies on expensive molecular tests that aren’t available globally,” Hieromnimon noted. “AI excels at finding subtle patterns across multiple data types simultaneously … If we can develop better AI models that work with standard tissue images, more patients could benefit from personalized treatment regardless of their geographic location or economic circumstances.”\\n\\nWith the growing influence of AI in cancer research and clinical care, it will be necessary to carefully consider the pros and cons of new AI tools, promote open science, and enhance collaboration, said panelists during the “AI Synergy Forum: Fostering Innovation Through Collaboration” session at the AACR Special Conference.\\n\\nPanelist Elana J. Fertig, PhD, of the University of Mayland School of Medicine, noted that researchers should consider whether their AI model solves a new problem or uncovers a novel aspect of biology, whether it is easier to use than conventional methods, and how it performs relative to other methods. Additionally, understanding the conditions in which the model no longer works and scrutinizing performance data are key to ensuring that a model isn’t “too good to be true.”\\n\\nDuring the “AI Synergy Forum: Fostering Innovation Through Collaboration” session, panelists discussed various considerations for the development and evaluation of AI tools.\\n\\nOnce effective models are developed, ensuring that others can access the data and code that led to their development is an important step towards open science, said panelist Shirin A. Enger, PhD, of McGill University in Montreal. This will require efforts to protect patient privacy when sharing data, as well as proactive code annotation so that other researchers can reuse a code.\\n\\nUltimately, the goal of using AI tools is to use existing data in a way that benefits patients. Panelist Skye Bork, from PACT AI, emphasized the mutually beneficial power of collaboration between startup companies and academic centers to drive faster science and better care. As an example, she highlighted how her company has collaborated with academic centers to develop and deploy AI models to prescreen patients for clinical trials using patient data from electronic health records and information from the clinicaltrials.gov website.\\n\\nWith these considerations, AI has the potential to transform cancer research and patient care. As Bork noted, “Our goal here is better and faster care for patients. I think we’re united in that.”\\n\\nTo learn about more AI applications across the cancer research spectrum, check out the special series on Driving Cancer Discoveries with Computational Research, Data Science, and Machine Learning/AI in the AACR journal Cancer Research. The series includes additional examples of clinical applications of AI, including:\\nSentiment:Sentiment score 0.10000000149011612 , Sentiment Magnitude 17.5\\nEntities:name:AI type: 3 Salience 0.010502318851649761, name:patients type: 1 Salience 0.007790534291416407, name:images type: 5 Salience 0.005327668972313404, name:AACR Special Conference on Artificial Intelligence and Machine Learning type: 4 Salience 0.004165916703641415, name:oncologists type: 1 Salience 0.0038701253943145275, name:Paladin type: 3 Salience 0.0002512336359359324, name:oncology clinics type: 2 Salience 0.0034002966713160276, name:researchers type: 1 Salience 0.0032175814267247915, name:Kevin Boehm type: 1 Salience 0.0030126539058983326, name:AEON type: 3 Salience 0.002279202686622739, name:Hanna Hieromnimon type: 1 Salience 0.0022116382606327534, name:cancer researchers type: 1 Salience 0.0020249371882528067, name:clinic type: 2 Salience 0.001632625120691955, name:some type: 2 Salience 0.0016187654109671712, name:presenters type: 1 Salience 0.0015460962895303965, name:area type: 2 Salience 0.0014865172561258078, name:blog post type: 5 Salience 0.0014764772495254874, name:RCC type: 3 Salience 0.00023981556296348572, name:AACR type: 3 Salience 0.0013029322726652026, name:events type: 4 Salience 0.0012968862429261208', additional_kwargs={}, response_metadata={}),\n",
       " HumanMessage(content=\"Prediction: These 3 Artificial Intelligence (AI) Stocks Will Be Worth Over $10 Trillion by 2035 \\nTen years. $10 trillion. Easy peasy?\\n\\nIt took over 400 years from the time the first stock was traded until a stock reached a market cap of $1 trillion. And that stock, PetroChina, soon fell below the magic level, causing investors to wait more than a decade for a stock to hit $1 trillion and remain above the threshold.\\n\\nHowever, I don't think it will take nearly as long for multiple stocks to break another important barrier. I predict that the following three artificial intelligence (AI) stocks will be worth over $10 trillion by 2035.\\n\\n1. Nvidia\\n\\nNvidia (NVDA 1.65%) is the easiest pick with my prediction. The company's valuation already hovers close to $4.5 trillion. Nvidia would only need to grow by around 8.3% per year for its market cap to hit $10 trillion by 2035. I think that growth level is readily attainable.\\n\\nTwo things need to happen for Nvidia to deliver average annual growth of at least 8.3% over the next 10 years. First, the demand for AI chips must continue to increase robustly. Second, Nvidia's GPUs must remain the best in the business for building and deploying AI models.\\n\\nI'm confident that the demand for AI chips will grow for years to come. Like many others, I believe we're only in the early days of AI adoption. If significant progress is made in building artificial general intelligence (AI) systems, the growth in demand for AI chips could be explosive.\\n\\nWill Nvidia's GPUs remain the gold standard for AI applications? My hunch is that they will. Sure, Nvidia has several formidable challengers. However, the company continues to invest heavily in research and development and has a rapid cadence of launching new innovations. I expect Nvidia will stay on top.\\n\\n2. Apple\\n\\nApple (AAPL 1.21%) became the first stock to sustain a market cap of over $1 trillion. I believe it will be among the elite group of stocks worth $10 trillion or more by 2035. To accomplish this, Apple would need to nearly triple its current market cap of around $3.4 trillion. Is that doable? Yes, if the company can deliver a compound annual growth rate of 11.4%.\\n\\nThe good news is that Apple is already achieving the earnings growth needed. The company's earnings per share jumped 12% in its latest quarter. The better news is that Apple could have catalysts on the way that accelerate its growth.\\n\\nRumors are rampant that Apple plans to launch a foldable iPhone next year. Bloomberg recently reported that the company will introduce a countertop robot in 2027. These AI companions would incorporate a turbocharged and more visual version of Apple's Siri AI assistant.\\n\\nPerhaps the most important new growth driver for Apple, though, could be AI glasses. The first version of the new device could come as soon as 2026 and compete against Meta Platforms' popular smart glasses.\\n\\n3. Alphabet\\n\\nI predict Alphabet (GOOG 2.98%) (GOOGL 3.10%) will join Nvidia and Apple in the $10 trillion club. The Google parent's market cap currently stands at roughly $2.5 trillion. Its stock would need to quadruple by 2035 to hit $10 trillion. That translates to an annual growth rate of nearly 15%.\\n\\nAlphabet is already delivering earnings growth that tops the required level. Current revenue growth falls just short, but a modest uptick would close the gap. I think there are several ways the company could squeeze out a little more growth.\\n\\nProbably the simplest way for Alphabet to reach a market cap of $10 trillion is for Google Cloud to gain even more momentum. Google Cloud is the fastest-growing major cloud service provider right now. I can envision its growth accelerating with the launch of highly capable AI agents that perform a wide variety of tasks for users.\\n\\nBut Alphabet has multiple other alternative growth drivers. Waymo is poised to be a big winner in the robotaxi market over the next few years. Don't be surprised if Google becomes a major player in the AI glasses market, along with Apple and Meta. It could even make a huge breakthrough in quantum computing that helps boost Alphabet's market cap to the $10 trillion mark.\\n\\nCould there be more?\\n\\nWhile I'm predicting that Nvidia, Apple, and Alphabet will have market caps of at least $10 trillion by 2035, I'm not saying there won't be other AI stocks in the club. Microsoft is an obvious candidate. So is Amazon. I wouldn't be surprised if Meta is in the group as well, although it's somewhat more of a dark horse.\\nSentiment:Sentiment score 0.10000000149011612 , Sentiment Magnitude 18.5\\nEntities:name:Nvidia type: 3 Salience 0.11133415251970291, name:Apple type: 3 Salience 0.05448261275887489, name:investors type: 1 Salience 0.013019390404224396, name:company type: 3 Salience 0.012925532646477222, name:AI companions type: 3 Salience 0.009357066825032234, name:growth type: 4 Salience 0.009069488383829594, name:PetroChina type: 3 Salience 0.0077017322182655334, name:pick type: 4 Salience 0.00625241594389081, name:AI type: 3 Salience 0.005804515443742275, name:glasses type: 6 Salience 0.004636285360902548, name:version type: 5 Salience 0.004495541099458933, name:growth driver type: 1 Salience 0.004228671081364155, name:GPUs type: 3 Salience 0.00403194036334753, name:group type: 3 Salience 0.003753156401216984, name:models type: 6 Salience 0.0032786850351840258, name:others type: 1 Salience 0.003273935755714774, name:challengers type: 1 Salience 0.0032658600248396397, name:assistant type: 1 Salience 0.0030140322633087635, name:device type: 6 Salience 0.003012079978361726, name:cloud service provider type: 3 Salience 0.002894024131819606\", additional_kwargs={}, response_metadata={}),\n",
       " HumanMessage(content='Why I keep telling you about AI (artificial intelligence) \\nPosted Thursday, August 21, 2025 8:22 am\\n\\nI know. Another column from me about artificial intelligence.\\n\\nYou’re probably thinking, “Didn’t we just do this?” And yes, if you’ve been reading along, we did.\\n\\nBut here’s the thing: I’m not writing about AI because I think it’s some fascinating abstract concept or because I’m an obsessed techie. I’m writing about it because, whether you’ve invited it in or not, AI is already a houseguest in your life, and more often than not, you don’t even know it’s there.\\n\\nThat’s why I keep coming back to it. Not because it’s trending, or because I think we’re all going to be replaced by humanoid chatbots. I keep writing about it because the average person – your neighbor, your grocer, your pastor – is already encountering AI dozens of times a day without realizing it.\\n\\nTo make the point, let’s use a fictional and therefore agreeable neighbor, Mr. Joe Q. Public.\\n\\nJoe’s not interested in technology. He doesn’t follow the latest AI developments or read white papers. He’s not tinkering with ChatGPT. He’s just living his life – checking the weather, texting his wife, driving to work, stopping for groceries, flipping on a show in the evening.\\n\\nBut AI? AI is everywhere in Joe’s day.\\n\\nLet’s start with the most universal. Joe opens Google. He types in a simple question, looking for a customer service number, and up pops an “AI-generated summary” right at the top. It looks helpful. Authoritative. But what Joe doesn’t know, and neither does Google’s AI, is that scammers have figured out how to game the system.\\n\\nThey use AI, too, to flood the internet with fake info, which gets scooped up by the AI summary engine and regurgitated back into search results. Some users have already been tricked into calling fake support lines and handed over their credit card info to scammers because the AI served up the wrong number, with Google’s logo stamped above it.\\n\\nAnyway, while Joe scans his Google results, he gets a text from his boss, and as he replies, his phone helpfully changes “I’ll be right there” to “I’ll be riot there.” That’s autocorrect, a tiny AI model constantly guessing what he meant. Not always correctly.\\n\\nNow back to his Google results, Joe has managed to get the right number he was looking for and dials up customer service. There’s a 50/50 chance, a coin flip, that the pleasant helpful voice that answers his call is a sophisticated AI chatbot.\\n\\nLater, Joe yells at his Alexa to turn off the kitchen light, and Alexa, after a dramatic pause and a misunderstanding about “kitchen fight,” obliges. That’s AI. That afternoon, Spotify throws a mellow “yacht rock” wrench into the middle of his workout jams because it has no idea what he’s doing. That’s AI. And when Joe decides to watch a movie, Netflix uses AI to suggest “Somebody Feed Phil” because Joe once watched five minutes of a documentary about cheese.\\n\\nJoe recognizes those moments. He may roll his eyes or laugh or swear at them, but he knows there’s some sort of tech wizardry involved. It feels artificial. Sometimes intelligent.\\n\\nBut AI’s reach doesn’t stop at the things Joe can see. Most of it, in fact, operates under the hood.\\n\\nSay Joe pulls out his debit card to buy something online. Ever the romantic, Joe’s trying to buy chocolates from France for his beautiful bride. The transaction gets flagged. Denied. Not because he entered the number wrong, but because AI behind the scenes decided that the purchase didn’t match his normal behavior and might be fraudulent. It was an invisible decision made in milliseconds, not by a person, but by a machine. And it didn’t just block the payment. It forced Joe to stop what he was doing, maybe call the bank, maybe give up altogether.\\n\\nLater that night, Joe scrolls through Facebook. He’s not seeing a random selection of posts, he’s seeing the ones Mark Zuckerberg’s algorithms thinks he’s most likely to engage with. That means stories that make him nod in agreement or grit his teeth in frustration. AI isn’t just predicting his reactions, it’s shaping his emotional experience of the day.\\n\\nNow fast-forward to the job market. Joe’s a people kind of guy, and he wants to work in hospitality. He applies for a new position with Hilton hotels by uploading his resume and filling out a form. Before a human ever looks at his application, if one ever does, it’s scanned by an AI filter trained to recognize “strong candidates.”\\n\\nThat filter may favor certain formats, certain schools, certain keywords. It may downgrade him because he’s been out of the workforce for a few years or because he phrased something differently. He never hears back. But if he had, it might have been an AI chatbot calling to conduct an interview, similar to that customer service rep Joe talked to earlier.\\n\\nAnd then there’s health insurance – the least fun game most of us will ever play. Only now, Joe’s not playing with a person. Increasingly, AI is the one deciding whether a procedure gets covered. It reviews claims, scans records, and flags treatments as “medically necessary” or not, based on training data, not bedside judgment. More and more, it’s not a nurse or case manager on the other end of the line. It’s an algorithm. And that decision might mean the difference between Joe getting a needed scan or getting a bill for thousands because his claim was denied by AI. That’s not hypothetical. That’s happening now.\\n\\nThis is the stuff I want people to see. Not just the chatbots and the autocorrects, but the full spectrum, which we haven’t even covered here, from the tools we recognize to the unseen gears grinding behind the scenes.\\n\\nAnd to be clear, this isn’t all bad. AI fraud detection saves people millions. Smart thermostats cut energy bills. Voice assistants help people with mobility issues. Health monitors on smartwatches have flagged early signs of heart conditions. These are real benefits, and they matter.\\n\\nBut so does transparency. So does understanding. Because not every AI system is built with your best interests in mind. Some are tuned for profit. Some for engagement. Some are based on flawed data. And many are completely unregulated.\\n\\nThat’s why I keep telling you about AI, because this is no longer about some hypothetical future. It’s about Friday. It’s about now.\\n\\nYou don’t have to be a tech person to care. You just have to be a person.\\n\\nIf you’re getting ads that feel like they’re reading your mind, if your insurance rates change without explanation, if your kid’s college essay is flagged for plagiarism when they didn’t cheat, AI is likely involved. If your doctor uses a diagnostic assistant, if your bank denies a loan, if that self-driving semi squeezes you off the road, AI is involved.\\n\\nAside from Facebook’s algorithms and those darned ads that follow me around the internet after I’ve searched for something, I never paid any attention to AI until I signed up for ChatGPT two years ago. These days, there’s a new article about AI almost every day on the national news sites I use, and I see how invasive it’s become, how it’s being used for things I’ve always assumed are done by humans. AI is making decisions that affect your lives on a regular basis. So while there are so many things I could write about in my column, you can count on another one about AI in the next few months, because I’m writing about the people you used to know who are now the machines you’re getting to know, whether you like it or not.\\nSentiment:Sentiment score -0.10000000149011612 , Sentiment Magnitude 40.0\\nEntities:name:Joe Q. Public type: 1 Salience 0.1894233673810959, name:neighbor type: 1 Salience 0.009344326332211494, name:AI type: 3 Salience 0.005405612289905548, name:Google type: 3 Salience 0.004138442687690258, name:houseguest type: 1 Salience 0.0015740912640467286, name:column type: 5 Salience 0.0014159497804939747, name:Spotify type: 6 Salience 0.0011995508102700114, name:users type: 1 Salience 0.0011706079822033644, name:Some type: 1 Salience 0.0011288445675745606, name:scammers type: 1 Salience 0.0010053039295598865, name:stories type: 5 Salience 0.0007268345216289163, name:everywhere type: 2 Salience 0.0006465518963523209, name:ads type: 5 Salience 0.0006192295695655048, name:Most type: 1 Salience 0.0006012457888573408, name:show type: 4 Salience 0.00046122283674776554, name:wife type: 1 Salience 0.00046122283674776554, name:white papers type: 5 Salience 0.000456382695119828, name:person type: 1 Salience 0.0004413457936607301, name:Voice assistants type: 1 Salience 0.00041243716259486973, name:tech person type: 1 Salience 0.0003731236211024225', additional_kwargs={}, response_metadata={}),\n",
       " HumanMessage(content='Research suggests doctors might quickly become dependent on AI \\nResearch suggests doctors might quickly become dependent on AI\\n\\ntoggle caption Sorbetto/Getty Images\\n\\nArtificial intelligence is beginning to help doctors screen patients for several routine diseases. But a new study raises concerns about whether doctors might become too reliant on AI.\\n\\nThe study looking at gastroenterologists in Poland found that they appeared to be about 20% worse at spotting polyps and other abnormalities during colonoscopies on their own, after they\\'d grown accustomed to using an AI-assisted system.\\n\\nThe findings, published in the journal Lancet Gastroenterology and Hepatology, suggest that even after a short period of using AI, experts may become overly dependent on AI to do certain aspects of their jobs.\\n\\n\"We were quite surprised,\" says Marcin Romańczyk, an M.D.-Ph.D. gastroenterologist at H-T Medical Center in Tychy, Poland, who led the study.\\n\\nBut not everyone is convinced that the paper proves doctors are losing critical skills because of AI.\\n\\nSponsor Message\\n\\n\"I think three months seems like a very short period to lose a skill that you took 26 years to build up,\" says Johan Hulleman, a researcher at Manchester University in England who has studied human reliance on artificial intelligence.\\n\\nHulleman believes statistical variations in the patient data might be part of the explanation for why the numbers appear to drop. Factors such as the average age of the patients used in different sections of the study might explain the variation, he says.\\n\\nAI in medicine\\n\\nArtificial intelligence is becoming increasingly common for a number of routine medical scans. The next time you get a scan for your eyes, breast cancer, or colon disease, there\\'s a decent chance that AI might be analyzing the images.\\n\\n\"AI is spreading everywhere,\" Romańczyk says. At the same time, many doctors are playing catch-up, because learning how to use the technology wasn\\'t part of their training.\\n\\n\"We\\'ve been taught from books and from our teachers,\" he says. \"No one told us how to use AI.\"\\n\\nA few years ago, four clinics in Poland tried out an AI system to detect polyps and other abnormalities during colonoscopies. The AI works in real time, analyzing video from a camera inside the colon.\\n\\nIf it spots something, it will highlight the area for the clinician to see.\\n\\n\"In this particular one there\\'s a green box, showing where the polyp might be,\" he says.\\n\\nIn the box\\n\\nThe clinics were collecting data on whether the AI system worked. It turns out it did, but when Romańczyk and his colleagues reanalyzed the data, they found something else: After the system was introduced, doctors became significantly worse at detecting possible polyps when the AI was switched off.\\n\\nAccording to their analysis, after doctors got AI, detection rates of possible polyps fell from 28.4% to 22.4% when their new AI system was switched off. In other words, the doctors seemed to become quickly dependent on AI systems catching the polyps. Romańczyk says he\\'s not quite sure why it\\'s happening, but he has some theories.\\n\\n\"We are subconsciously waiting for the green box to come out to show us the region where the polyp is and we\\'re not paying so much attention,\" he says.\\n\\nSponsor Message\\n\\nThere are other examples that support that idea: A similar study has shown that nonexperts do a worse job scanning mammograms if they know they can get an AI system to help them with the push of a button.\\n\\nJohan Hulleman, who helped lead that mammogram study, describes it as a \"safety-net effect.\" He says these latest results could be interesting, but he\\'s skeptical. The study of colonoscopies took place over three months, and the doctors participating had decades of experience. He thinks statistical variations due to a number of factors, such as age of the patients, might be behind the apparent drop.\\n\\nAdditionally, he says, \"We don\\'t know how many polyps there really were, so we don\\'t know the ground truth.\" By that he means it\\'s unclear how many of the possible polyps that doctors supposedly missed were actually medically important.\\n\\nThe study\\'s author, Romańczyk, does believe the drop is real — though he admits that studying AI in a clinical setting like this can be tricky. There are a lot of variables the researchers couldn\\'t control.\\n\\nHe\\'s not against using AI. He actually thinks the little green boxes help him to do better colonoscopies. But he thinks that there should be more studies like these examining how AI might be changing the way doctors work in the real world.\\n\\n\"Because look what\\'s happening,\" he says. \"We have AI systems that are available, but we don\\'t have the data.\"\\nSentiment:Sentiment score -0.20000000298023224 , Sentiment Magnitude 14.399999618530273\\nEntities:name:Johan Hulleman type: 1 Salience 0.08394350111484528, name:Marcin Romańczyk type: 1 Salience 0.07998049259185791, name:doctors type: 1 Salience 0.048124875873327255, name:gastroenterologists type: 1 Salience 0.015722310170531273, name:colonoscopies type: 4 Salience 0.011641676537692547, name:experts type: 1 Salience 0.0078793466091156, name:Sorbetto type: 6 Salience 0.006963569205254316, name:Lancet Gastroenterology type: 5 Salience 0.0068705459125339985, name:patients type: 1 Salience 0.004142841789871454, name:Getty Images type: 3 Salience 0.0020921428222209215, name:Poland type: 2 Salience 0.002000251552090049, name:everyone type: 1 Salience 0.0013909176923334599, name:clinician type: 1 Salience 0.0013111853040754795, name:area type: 2 Salience 0.0011282298946753144, name:clinics type: 2 Salience 0.0009747385629452765, name:nonexperts type: 1 Salience 0.0009615297894924879, name:AI type: 3 Salience 0.0009224397945217788, name:No one type: 1 Salience 0.0008895731880329549, name:images type: 5 Salience 0.0008812514715828001, name:books type: 5 Salience 0.0007818370359018445', additional_kwargs={}, response_metadata={}),\n",
       " HumanMessage(content='Research suggests doctors might quickly become dependent on AI \\nResearch suggests doctors might quickly become dependent on AI\\n\\ntoggle caption Sorbetto/Getty Images\\n\\nArtificial intelligence is beginning to help doctors screen patients for several routine diseases. But a new study raises concerns about whether doctors might become too reliant on AI.\\n\\nThe study looking at gastroenterologists in Poland found that they appeared to be about 20% worse at spotting polyps and other abnormalities during colonoscopies on their own, after they\\'d grown accustomed to using an AI-assisted system.\\n\\nThe findings, published in the journal Lancet Gastroenterology and Hepatology, suggest that even after a short period of using AI, experts may become overly dependent on AI to do certain aspects of their jobs.\\n\\n\"We were quite surprised,\" says Marcin Romańczyk, an M.D.-Ph.D. gastroenterologist at H-T Medical Center in Tychy, Poland, who led the study.\\n\\nBut not everyone is convinced that the paper proves doctors are losing critical skills because of AI.\\n\\nSponsor Message\\n\\n\"I think three months seems like a very short period to lose a skill that you took 26 years to build up,\" says Johan Hulleman, a researcher at Manchester University in England who has studied human reliance on artificial intelligence.\\n\\nHulleman believes statistical variations in the patient data might be part of the explanation for why the numbers appear to drop. Factors such as the average age of the patients used in different sections of the study might explain the variation, he says.\\n\\nAI in medicine\\n\\nArtificial intelligence is becoming increasingly common for a number of routine medical scans. The next time you get a scan for your eyes, breast cancer, or colon disease, there\\'s a decent chance that AI might be analyzing the images.\\n\\n\"AI is spreading everywhere,\" Romańczyk says. At the same time, many doctors are playing catch-up, because learning how to use the technology wasn\\'t part of their training.\\n\\n\"We\\'ve been taught from books and from our teachers,\" he says. \"No one told us how to use AI.\"\\n\\nA few years ago, four clinics in Poland tried out an AI system to detect polyps and other abnormalities during colonoscopies. The AI works in real time, analyzing video from a camera inside the colon.\\n\\nIf it spots something, it will highlight the area for the clinician to see.\\n\\n\"In this particular one there\\'s a green box, showing where the polyp might be,\" he says.\\n\\nIn the box\\n\\nThe clinics were collecting data on whether the AI system worked. It turns out it did, but when Romańczyk and his colleagues reanalyzed the data, they found something else: After the system was introduced, doctors became significantly worse at detecting possible polyps when the AI was switched off.\\n\\nAccording to their analysis, after doctors got AI, detection rates of possible polyps fell from 28.4% to 22.4% when their new AI system was switched off. In other words, the doctors seemed to become quickly dependent on AI systems catching the polyps. Romańczyk says he\\'s not quite sure why it\\'s happening, but he has some theories.\\n\\n\"We are subconsciously waiting for the green box to come out to show us the region where the polyp is and we\\'re not paying so much attention,\" he says.\\n\\nSponsor Message\\n\\nThere are other examples that support that idea: A similar study has shown that nonexperts do a worse job scanning mammograms if they know they can get an AI system to help them with the push of a button.\\n\\nJohan Hulleman, who helped lead that mammogram study, describes it as a \"safety-net effect.\" He says these latest results could be interesting, but he\\'s skeptical. The study of colonoscopies took place over three months, and the doctors participating had decades of experience. He thinks statistical variations due to a number of factors, such as age of the patients, might be behind the apparent drop.\\n\\nAdditionally, he says, \"We don\\'t know how many polyps there really were, so we don\\'t know the ground truth.\" By that he means it\\'s unclear how many of the possible polyps that doctors supposedly missed were actually medically important.\\n\\nThe study\\'s author, Romańczyk, does believe the drop is real — though he admits that studying AI in a clinical setting like this can be tricky. There are a lot of variables the researchers couldn\\'t control.\\n\\nHe\\'s not against using AI. He actually thinks the little green boxes help him to do better colonoscopies. But he thinks that there should be more studies like these examining how AI might be changing the way doctors work in the real world.\\n\\n\"Because look what\\'s happening,\" he says. \"We have AI systems that are available, but we don\\'t have the data.\"\\nSentiment:Sentiment score -0.20000000298023224 , Sentiment Magnitude 14.399999618530273\\nEntities:name:Johan Hulleman type: 1 Salience 0.08394350111484528, name:Marcin Romańczyk type: 1 Salience 0.07998049259185791, name:doctors type: 1 Salience 0.048124875873327255, name:gastroenterologists type: 1 Salience 0.015722310170531273, name:colonoscopies type: 4 Salience 0.011641676537692547, name:experts type: 1 Salience 0.0078793466091156, name:Sorbetto type: 6 Salience 0.006963569205254316, name:Lancet Gastroenterology type: 5 Salience 0.0068705459125339985, name:patients type: 1 Salience 0.004142841789871454, name:Getty Images type: 3 Salience 0.0020921428222209215, name:Poland type: 2 Salience 0.002000251552090049, name:everyone type: 1 Salience 0.0013909176923334599, name:clinician type: 1 Salience 0.0013111853040754795, name:area type: 2 Salience 0.0011282298946753144, name:clinics type: 2 Salience 0.0009747385629452765, name:nonexperts type: 1 Salience 0.0009615297894924879, name:AI type: 3 Salience 0.0009224397945217788, name:No one type: 1 Salience 0.0008895731880329549, name:images type: 5 Salience 0.0008812514715828001, name:books type: 5 Salience 0.0007818370359018445', additional_kwargs={}, response_metadata={})]"
      ]
     },
     "execution_count": 10,
     "metadata": {},
     "output_type": "execute_result"
    }
   ],
   "source": [
    "result['planned_sections']"
   ]
  },
  {
   "cell_type": "code",
   "execution_count": 11,
   "id": "b7dd8055",
   "metadata": {},
   "outputs": [
    {
     "data": {
      "text/plain": [
       "[AIMessage(content='# Eye on AI: Applying Artificial Intelligence to Drive Cancer Research, Part 2 \\n Artificial intelligence is significantly expanding its role in cancer research and clinical practice, moving beyond traditional imaging analysis to offer sophisticated tools for patient care. Researchers are leveraging AI to enhance the accuracy and efficiency of cancer diagnoses, infer crucial genomic information from standard tissue images, and guide personalized treatment strategies by predicting patient responses. Furthermore, the development of AI-generated synthetic patient data is addressing limitations in model training, potentially broadening access to precision oncology globally. Continued progress in this field necessitates rigorous evaluation, open scientific practices, and collaborative efforts to maximize patient benefit.', additional_kwargs={}, response_metadata={}),\n",
       " AIMessage(content='# Prediction: These 3 Artificial Intelligence (AI) Stocks Will Be Worth Over $10 Trillion by 2035 \\n A bold prediction suggests several prominent technology companies are on track to achieve unprecedented market valuations exceeding $10 trillion by 2035, fueled by the burgeoning artificial intelligence sector. This outlook is based on anticipated sustained demand for AI processing power, ongoing innovation in core technologies, and the introduction of new AI-integrated products and services. Companies are expected to leverage advancements in areas like cloud computing, advanced hardware, and consumer devices to drive significant expansion. Should these trends materialize, the landscape of global market capitalization could see a dramatic shift, highlighting the transformative economic potential of artificial intelligence in the coming decade.', additional_kwargs={}, response_metadata={}),\n",
       " AIMessage(content='# Why I keep telling you about AI (artificial intelligence) \\n The widespread and often unnoticed integration of artificial intelligence profoundly shapes individual experiences and decisions across daily life. From seemingly simple digital interactions like search results and autocorrect to complex processes such as financial fraud detection, job applications, and health insurance approvals, algorithmic systems are constantly at play. Many of these influences operate beneath the surface, impacting personal choices and outcomes without direct user awareness. While offering significant benefits in areas like efficiency and security, the pervasive nature of these technologies, some of which are unregulated or driven by commercial interests, necessitates greater public understanding and transparency as a current reality.', additional_kwargs={}, response_metadata={}),\n",
       " AIMessage(content='# Research suggests doctors might quickly become dependent on AI \\n A recent study suggests that medical professionals might quickly develop an over-reliance on artificial intelligence, potentially diminishing their independent diagnostic abilities. The research observed a significant decline in detection rates for abnormalities during certain medical procedures when AI assistance was removed, following a period of its use. While some experts caution that these findings could stem from statistical variables rather than a loss of skill, the study highlights critical questions about the impact of AI integration on clinical practice. This raises important considerations for how technology influences human expertise in rapidly evolving healthcare environments.', additional_kwargs={}, response_metadata={}),\n",
       " AIMessage(content=\"# Research suggests doctors might quickly become dependent on AI \\n A recent study casts a troubling light on the integration of artificial intelligence in medical diagnostics, suggesting a swift decline in human expertise. After a period of using AI-assisted systems for colonoscopies, clinicians demonstrated a notable decrease in their independent ability to spot abnormalities when the AI was inactive, raising serious questions about potential over-reliance. While some express skepticism regarding the study's methodology and the rapid loss of long-honed skills, the findings underscore the urgent need for more comprehensive research into how these powerful tools fundamentally alter professional practice and skill retention.\", additional_kwargs={}, response_metadata={})]"
      ]
     },
     "execution_count": 11,
     "metadata": {},
     "output_type": "execute_result"
    }
   ],
   "source": [
    "result['completed_sections']"
   ]
  },
  {
   "cell_type": "markdown",
   "id": "b5b43b67",
   "metadata": {},
   "source": [
    "## 🏁 Step 10: View and Explore Your Results\n",
    "\n",
    "> **Review the agentic summary output—concise, structured insights powered by your full news-processing pipeline!**\n",
    "\n",
    "What you can do in this step:\n",
    "- 👀 **Display the summarized results** right in your notebook output\n",
    "- ✨ **Explore, analyze, or visualize** the results—your summary is ready for further insights, charts, or sharing\n",
    "- 📄 **Export** or save the response for reports or dashboards\n",
    "\n",
    "**Example: Running and viewing the result**\n"
   ]
  },
  {
   "cell_type": "code",
   "execution_count": 12,
   "id": "b889327d",
   "metadata": {},
   "outputs": [],
   "source": [
    "final_report=result['messages'][-1].content"
   ]
  },
  {
   "cell_type": "code",
   "execution_count": 13,
   "id": "c6fec835",
   "metadata": {},
   "outputs": [
    {
     "data": {
      "text/markdown": [
       "# Eye on AI: Applying Artificial Intelligence to Drive Cancer Research, Part 2 \n",
       " Artificial intelligence is significantly expanding its role in cancer research and clinical practice, moving beyond traditional imaging analysis to offer sophisticated tools for patient care. Researchers are leveraging AI to enhance the accuracy and efficiency of cancer diagnoses, infer crucial genomic information from standard tissue images, and guide personalized treatment strategies by predicting patient responses. Furthermore, the development of AI-generated synthetic patient data is addressing limitations in model training, potentially broadening access to precision oncology globally. Continued progress in this field necessitates rigorous evaluation, open scientific practices, and collaborative efforts to maximize patient benefit.\n",
       "\n",
       "---\n",
       "\n",
       "# Prediction: These 3 Artificial Intelligence (AI) Stocks Will Be Worth Over $10 Trillion by 2035 \n",
       " A bold prediction suggests several prominent technology companies are on track to achieve unprecedented market valuations exceeding $10 trillion by 2035, fueled by the burgeoning artificial intelligence sector. This outlook is based on anticipated sustained demand for AI processing power, ongoing innovation in core technologies, and the introduction of new AI-integrated products and services. Companies are expected to leverage advancements in areas like cloud computing, advanced hardware, and consumer devices to drive significant expansion. Should these trends materialize, the landscape of global market capitalization could see a dramatic shift, highlighting the transformative economic potential of artificial intelligence in the coming decade.\n",
       "\n",
       "---\n",
       "\n",
       "# Why I keep telling you about AI (artificial intelligence) \n",
       " The widespread and often unnoticed integration of artificial intelligence profoundly shapes individual experiences and decisions across daily life. From seemingly simple digital interactions like search results and autocorrect to complex processes such as financial fraud detection, job applications, and health insurance approvals, algorithmic systems are constantly at play. Many of these influences operate beneath the surface, impacting personal choices and outcomes without direct user awareness. While offering significant benefits in areas like efficiency and security, the pervasive nature of these technologies, some of which are unregulated or driven by commercial interests, necessitates greater public understanding and transparency as a current reality.\n",
       "\n",
       "---\n",
       "\n",
       "# Research suggests doctors might quickly become dependent on AI \n",
       " A recent study suggests that medical professionals might quickly develop an over-reliance on artificial intelligence, potentially diminishing their independent diagnostic abilities. The research observed a significant decline in detection rates for abnormalities during certain medical procedures when AI assistance was removed, following a period of its use. While some experts caution that these findings could stem from statistical variables rather than a loss of skill, the study highlights critical questions about the impact of AI integration on clinical practice. This raises important considerations for how technology influences human expertise in rapidly evolving healthcare environments.\n",
       "\n",
       "---\n",
       "\n",
       "# Research suggests doctors might quickly become dependent on AI \n",
       " A recent study casts a troubling light on the integration of artificial intelligence in medical diagnostics, suggesting a swift decline in human expertise. After a period of using AI-assisted systems for colonoscopies, clinicians demonstrated a notable decrease in their independent ability to spot abnormalities when the AI was inactive, raising serious questions about potential over-reliance. While some express skepticism regarding the study's methodology and the rapid loss of long-honed skills, the findings underscore the urgent need for more comprehensive research into how these powerful tools fundamentally alter professional practice and skill retention."
      ],
      "text/plain": [
       "<IPython.core.display.Markdown object>"
      ]
     },
     "execution_count": 13,
     "metadata": {},
     "output_type": "execute_result"
    }
   ],
   "source": [
    "from IPython.display import Markdown\n",
    "Markdown(final_report)"
   ]
  }
 ],
 "metadata": {
  "kernelspec": {
   "display_name": "Python 3",
   "language": "python",
   "name": "python3"
  },
  "language_info": {
   "codemirror_mode": {
    "name": "ipython",
    "version": 3
   },
   "file_extension": ".py",
   "mimetype": "text/x-python",
   "name": "python",
   "nbconvert_exporter": "python",
   "pygments_lexer": "ipython3",
   "version": "3.11.9"
  }
 },
 "nbformat": 4,
 "nbformat_minor": 5
}
